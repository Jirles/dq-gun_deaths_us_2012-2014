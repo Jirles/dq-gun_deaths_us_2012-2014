{
 "cells": [
  {
   "cell_type": "code",
   "execution_count": 1,
   "metadata": {},
   "outputs": [
    {
     "data": {
      "text/plain": [
       "[['',\n",
       "  'year',\n",
       "  'month',\n",
       "  'intent',\n",
       "  'police',\n",
       "  'sex',\n",
       "  'age',\n",
       "  'race',\n",
       "  'hispanic',\n",
       "  'place',\n",
       "  'education'],\n",
       " ['1',\n",
       "  '2012',\n",
       "  '01',\n",
       "  'Suicide',\n",
       "  '0',\n",
       "  'M',\n",
       "  '34',\n",
       "  'Asian/Pacific Islander',\n",
       "  '100',\n",
       "  'Home',\n",
       "  '4'],\n",
       " ['2', '2012', '01', 'Suicide', '0', 'F', '21', 'White', '100', 'Street', '3'],\n",
       " ['3',\n",
       "  '2012',\n",
       "  '01',\n",
       "  'Suicide',\n",
       "  '0',\n",
       "  'M',\n",
       "  '60',\n",
       "  'White',\n",
       "  '100',\n",
       "  'Other specified',\n",
       "  '4'],\n",
       " ['4', '2012', '02', 'Suicide', '0', 'M', '64', 'White', '100', 'Home', '4']]"
      ]
     },
     "execution_count": 1,
     "metadata": {},
     "output_type": "execute_result"
    }
   ],
   "source": [
    "import csv\n",
    "\n",
    "data = list(csv.reader(open('guns.csv')))\n",
    "\n",
    "data[:5]"
   ]
  },
  {
   "cell_type": "code",
   "execution_count": 8,
   "metadata": {
    "collapsed": true
   },
   "outputs": [],
   "source": [
    "def tally_count(data, index):\n",
    "    '''\n",
    "    data: list of lists\n",
    "    index: integer; represents index at which the data that is to be tallied up \n",
    "    is located. index values will become result dictionary keys.\n",
    "    \n",
    "    function takes in data, loops through items and tallies the total number\n",
    "    of times the data at an index occurs.\n",
    "    '''\n",
    "    result = {}\n",
    "    for row in data:\n",
    "        if row[index] in data:\n",
    "            result[row[index]] += 1\n",
    "        else:\n",
    "            result[row[index]] = 1\n",
    "    return result"
   ]
  },
  {
   "cell_type": "code",
   "execution_count": 9,
   "metadata": {},
   "outputs": [
    {
     "name": "stdout",
     "output_type": "stream",
     "text": [
      "[['1', '2012', '01', 'Suicide', '0', 'M', '34', 'Asian/Pacific Islander', '100', 'Home', '4'], ['2', '2012', '01', 'Suicide', '0', 'F', '21', 'White', '100', 'Street', '3'], ['3', '2012', '01', 'Suicide', '0', 'M', '60', 'White', '100', 'Other specified', '4'], ['4', '2012', '02', 'Suicide', '0', 'M', '64', 'White', '100', 'Home', '4'], ['5', '2012', '02', 'Suicide', '0', 'M', '31', 'White', '100', 'Other specified', '2']]\n"
     ]
    }
   ],
   "source": [
    "headers = data[0]\n",
    "data = data[1:]\n",
    "headers\n",
    "print(data[:5])"
   ]
  },
  {
   "cell_type": "code",
   "execution_count": 10,
   "metadata": {},
   "outputs": [
    {
     "name": "stdout",
     "output_type": "stream",
     "text": [
      "['', 'year', 'month', 'intent', 'police', 'sex', 'age', 'race', 'hispanic', 'place', 'education']\n"
     ]
    }
   ],
   "source": [
    "print(headers)"
   ]
  },
  {
   "cell_type": "code",
   "execution_count": 14,
   "metadata": {},
   "outputs": [],
   "source": [
    "def tally_occurrences(data, index):\n",
    "    '''\n",
    "    data: list of lists\n",
    "    index: integer; represents index at which values to be tallied\n",
    "    are located. index values become dictionary keys.\n",
    "    \n",
    "    function takes in a data set comprised of a list of lists and tallies\n",
    "    the number of times a certain value occurs in the dataset. the \n",
    "    result is a dictionary whose values represent the number of times a value\n",
    "    occured in the original dataset.\n",
    "    '''\n",
    "    result = {}\n",
    "    for row in data:\n",
    "        if row[index] in result:\n",
    "            result[row[index]] += 1\n",
    "        else:\n",
    "            result[row[index]] = 1\n",
    "    return result"
   ]
  },
  {
   "cell_type": "code",
   "execution_count": 15,
   "metadata": {},
   "outputs": [
    {
     "name": "stdout",
     "output_type": "stream",
     "text": [
      "{'2012': 33563, '2013': 33636, '2014': 33599}\n"
     ]
    }
   ],
   "source": [
    "year_counts = tally_occurrences(data,1)\n",
    "print(year_counts)"
   ]
  },
  {
   "cell_type": "code",
   "execution_count": 19,
   "metadata": {},
   "outputs": [
    {
     "name": "stdout",
     "output_type": "stream",
     "text": [
      "[datetime.datetime(2012, 1, 1, 0, 0), datetime.datetime(2012, 1, 1, 0, 0), datetime.datetime(2012, 1, 1, 0, 0), datetime.datetime(2012, 2, 1, 0, 0), datetime.datetime(2012, 2, 1, 0, 0)]\n"
     ]
    }
   ],
   "source": [
    "import datetime\n",
    "\n",
    "dates = [datetime.datetime(year=int(row[1]), month=int(row[2]), day=1) for row in data]\n",
    "print(dates[:5])"
   ]
  },
  {
   "cell_type": "code",
   "execution_count": 20,
   "metadata": {},
   "outputs": [
    {
     "name": "stdout",
     "output_type": "stream",
     "text": [
      "{datetime.datetime(2014, 11, 1, 0, 0): 2756, datetime.datetime(2014, 5, 1, 0, 0): 2864, datetime.datetime(2014, 3, 1, 0, 0): 2684, datetime.datetime(2014, 12, 1, 0, 0): 2857, datetime.datetime(2014, 10, 1, 0, 0): 2865, datetime.datetime(2012, 11, 1, 0, 0): 2729, datetime.datetime(2012, 2, 1, 0, 0): 2357, datetime.datetime(2012, 10, 1, 0, 0): 2733, datetime.datetime(2013, 10, 1, 0, 0): 2808, datetime.datetime(2013, 6, 1, 0, 0): 2920, datetime.datetime(2014, 9, 1, 0, 0): 2914, datetime.datetime(2013, 2, 1, 0, 0): 2375, datetime.datetime(2013, 8, 1, 0, 0): 2859, datetime.datetime(2012, 6, 1, 0, 0): 2826, datetime.datetime(2012, 9, 1, 0, 0): 2852, datetime.datetime(2014, 7, 1, 0, 0): 2884, datetime.datetime(2014, 4, 1, 0, 0): 2862, datetime.datetime(2013, 9, 1, 0, 0): 2742, datetime.datetime(2013, 1, 1, 0, 0): 2864, datetime.datetime(2013, 4, 1, 0, 0): 2798, datetime.datetime(2012, 1, 1, 0, 0): 2758, datetime.datetime(2012, 12, 1, 0, 0): 2791, datetime.datetime(2012, 8, 1, 0, 0): 2954, datetime.datetime(2014, 1, 1, 0, 0): 2651, datetime.datetime(2014, 2, 1, 0, 0): 2361, datetime.datetime(2014, 6, 1, 0, 0): 2931, datetime.datetime(2013, 11, 1, 0, 0): 2758, datetime.datetime(2013, 5, 1, 0, 0): 2806, datetime.datetime(2012, 3, 1, 0, 0): 2743, datetime.datetime(2013, 7, 1, 0, 0): 3079, datetime.datetime(2012, 5, 1, 0, 0): 2999, datetime.datetime(2012, 7, 1, 0, 0): 3026, datetime.datetime(2013, 12, 1, 0, 0): 2765, datetime.datetime(2012, 4, 1, 0, 0): 2795, datetime.datetime(2014, 8, 1, 0, 0): 2970, datetime.datetime(2013, 3, 1, 0, 0): 2862}\n"
     ]
    }
   ],
   "source": [
    "date_counts = {}\n",
    "for item in dates:\n",
    "    if item in date_counts:\n",
    "        date_counts[item] += 1\n",
    "    else:\n",
    "        date_counts[item] = 1\n",
    "\n",
    "print(date_counts)"
   ]
  },
  {
   "cell_type": "code",
   "execution_count": 21,
   "metadata": {},
   "outputs": [
    {
     "data": {
      "text/plain": [
       "['',\n",
       " 'year',\n",
       " 'month',\n",
       " 'intent',\n",
       " 'police',\n",
       " 'sex',\n",
       " 'age',\n",
       " 'race',\n",
       " 'hispanic',\n",
       " 'place',\n",
       " 'education']"
      ]
     },
     "execution_count": 21,
     "metadata": {},
     "output_type": "execute_result"
    }
   ],
   "source": [
    "headers"
   ]
  },
  {
   "cell_type": "code",
   "execution_count": 22,
   "metadata": {},
   "outputs": [
    {
     "name": "stdout",
     "output_type": "stream",
     "text": [
      "{'M': 86349, 'F': 14449}\n",
      "{'Native American/Native Alaskan': 917, 'Asian/Pacific Islander': 1326, 'White': 66237, 'Hispanic': 9022, 'Black': 23296}\n"
     ]
    }
   ],
   "source": [
    "sex_counts = tally_occurrences(data, 5)\n",
    "race_counts = tally_occurrences(data, 7)\n",
    "print(sex_counts)\n",
    "print(race_counts)"
   ]
  },
  {
   "cell_type": "markdown",
   "metadata": {},
   "source": [
    "## Gun Deaths Recap\n",
    "\n",
    "So far, we've learned that gun deaths have not fluctuated significantly throughout the three years included in the dataset (2012-2014). `sex_counts` is not that surprising, given that men are more likely to die violently than women.  `race_counts` doesn't really tell us much because it's total deaths; calculating the proportion of the overall racial population that these deaths represent would be more  illuminating. \n",
    "\n",
    "Some points that need further investigation/stuff I'm curious to see: \n",
    "\n",
    "- Is there a marked difference in the `intent` behind female and males gun deaths? \n",
    "    - I've read that women are more likely to die by partner violence and men are more likely to use guns to commit suicide. So let's compare, shall we?\n",
    "\n",
    "- What percentage of the overall racial population do gun deaths constitute according to our data?\n",
    "    - This should show that while white people have the highest total causalities due to gun deaths, they don't constitute a large percentage of the overall white population. I expect the black ratio to be the highest.\n",
    "\n",
    "- Is there any noticable uptick in gun deaths during certain times of year?\n",
    "    - I remember reading that violence/crime increases in the summer when people are outdoors. I want to see if this dataset might support that. Also, apparently suicides tick up over the holidays. That would be interesting to see.\n",
    "\n",
    "- Are there any patters discernable in instances of a gun death where a police officer was involved?\n",
    "    - Bascially, I want to see what race is general involved (I'm predicting mosly black) and what the `intent` is recorded as. "
   ]
  },
  {
   "cell_type": "code",
   "execution_count": 23,
   "metadata": {},
   "outputs": [
    {
     "data": {
      "text/plain": [
       "[['Id',\n",
       "  'Year',\n",
       "  'Id',\n",
       "  'Sex',\n",
       "  'Id',\n",
       "  'Hispanic Origin',\n",
       "  'Id',\n",
       "  'Id2',\n",
       "  'Geography',\n",
       "  'Total',\n",
       "  'Race Alone - White',\n",
       "  'Race Alone - Hispanic',\n",
       "  'Race Alone - Black or African American',\n",
       "  'Race Alone - American Indian and Alaska Native',\n",
       "  'Race Alone - Asian',\n",
       "  'Race Alone - Native Hawaiian and Other Pacific Islander',\n",
       "  'Two or More Races'],\n",
       " ['cen42010',\n",
       "  'April 1, 2010 Census',\n",
       "  'totsex',\n",
       "  'Both Sexes',\n",
       "  'tothisp',\n",
       "  'Total',\n",
       "  '0100000US',\n",
       "  '',\n",
       "  'United States',\n",
       "  '308745538',\n",
       "  '197318956',\n",
       "  '44618105',\n",
       "  '40250635',\n",
       "  '3739506',\n",
       "  '15159516',\n",
       "  '674625',\n",
       "  '6984195']]"
      ]
     },
     "execution_count": 23,
     "metadata": {},
     "output_type": "execute_result"
    }
   ],
   "source": [
    "census = list(csv.reader(open('census.csv')))\n",
    "census"
   ]
  },
  {
   "cell_type": "code",
   "execution_count": 24,
   "metadata": {},
   "outputs": [
    {
     "data": {
      "text/plain": [
       "{'Asian/Pacific Islander': 1326,\n",
       " 'Black': 23296,\n",
       " 'Hispanic': 9022,\n",
       " 'Native American/Native Alaskan': 917,\n",
       " 'White': 66237}"
      ]
     },
     "execution_count": 24,
     "metadata": {},
     "output_type": "execute_result"
    }
   ],
   "source": [
    "race_counts"
   ]
  },
  {
   "cell_type": "code",
   "execution_count": 25,
   "metadata": {
    "collapsed": true
   },
   "outputs": [],
   "source": [
    "mapping = {'Asian/Pacific Islander': 15834141, 'Black':40250635, 'Hispanic': 44618105, 'Native American/Native Alaskan': 3739506, 'White': 197318956}"
   ]
  },
  {
   "cell_type": "code",
   "execution_count": 26,
   "metadata": {},
   "outputs": [
    {
     "name": "stdout",
     "output_type": "stream",
     "text": [
      "{'Hispanic': 20.220491210910907, 'Native American/Native Alaskan': 24.521955573811088, 'White': 33.56849303419181, 'Black': 57.8773477735196, 'Asian/Pacific Islander': 8.374309664161762}\n"
     ]
    }
   ],
   "source": [
    "race_per_hundredk = {}\n",
    "for key, value in race_counts.items():\n",
    "    race_per_hundredk[key] = (value / mapping[key]) * 100000\n",
    "\n",
    "print(race_per_hundredk)"
   ]
  },
  {
   "cell_type": "code",
   "execution_count": 28,
   "metadata": {},
   "outputs": [
    {
     "name": "stdout",
     "output_type": "stream",
     "text": [
      "['Suicide', 'Suicide', 'Suicide', 'Suicide', 'Suicide']\n"
     ]
    }
   ],
   "source": [
    "intents = [row[3] for row in data]\n",
    "races = [row[7] for row in data]\n",
    "print(intents[:5])"
   ]
  },
  {
   "cell_type": "code",
   "execution_count": 29,
   "metadata": {},
   "outputs": [
    {
     "name": "stdout",
     "output_type": "stream",
     "text": [
      "{'Native American/Native Alaskan': 326, 'Black': 19510, 'Asian/Pacific Islander': 559, 'White': 9147, 'Hispanic': 5634}\n"
     ]
    }
   ],
   "source": [
    "homicide_race_counts = {}\n",
    "for i, race in enumerate(races):\n",
    "    if intents[i] == 'Homicide':\n",
    "        if race in homicide_race_counts:\n",
    "            homicide_race_counts[race] += 1\n",
    "        else:\n",
    "            homicide_race_counts[race] = 1\n",
    "\n",
    "print(homicide_race_counts)"
   ]
  },
  {
   "cell_type": "code",
   "execution_count": 30,
   "metadata": {},
   "outputs": [
    {
     "name": "stdout",
     "output_type": "stream",
     "text": [
      "{'Native American/Native Alaskan': 8.717729026240365, 'Black': 48.471284987180944, 'Asian/Pacific Islander': 3.530346230970155, 'White': 4.6356417981453335, 'Hispanic': 12.627161104219914}\n"
     ]
    }
   ],
   "source": [
    "for key, value in homicide_race_counts.items():\n",
    "    homicide_race_counts[key] = (value / mapping[key]) * 100000\n",
    "\n",
    "print(homicide_race_counts)"
   ]
  },
  {
   "cell_type": "markdown",
   "metadata": {},
   "source": [
    "## Findings Breakdown\n",
    "\n",
    "Below is a bulleted list of the data from `race_per_hundredk` and `homicide_race_counts`, rounded to 2 decimal points, for ease of comparison. \n",
    "\n",
    "Information is listed as Race: `race_per_hundredk` / **`homicide_race_count`** where `race_per_hundredk` is the overall number of gun deaths per 100,000 people per race and **`homicide_race_count`** is the murder rate per 100,000 people per race.\n",
    "\n",
    "- Native American/Native Alaskan: 24.52 / **8.72**\n",
    "- Black: 57.88 / **48.47**\n",
    "- Asian/Pacific Islander: 8.37 / **3.53**\n",
    "- White: 33.57 / **4.64**\n",
    "- Hispanic: 20.22 / **12.63**\n",
    "\n",
    "As I predicted in an earlier markdown cell, black American's are more likely to experience gun violence than Americans of other races. I did not realize how significant the difference would be, particularly when it came to murders/100,000 people (`homicide_race_count`). Hispanic Americans come next at 12.63 murders/100,000 people, but that still pales in comparison to black Americans' stat of 48.47/100,000.\n",
    "\n",
    "While I think this is correct, it certainly agrees with everything I've ever read or any studies I've seen mentioned in the news, one thing to note is that the `census.csv` data had an additional category in its racial breakdown than did `guns.csv`. According to the census data, 6,984,195 people identified as `Two or More Races`. This could change the totals captured in `race_per_hundredk` and `homicide_race_count`. However, even if all of the people who identifed as `Two or More Races` were added to the black population, the totals for gun deaths/100,000 people and murder/100,000 people would still be significantly higher for the black population:\n",
    "\n",
    "- Black: 49.32 / **41.30**\n",
    "\n",
    "This still constitutes numbers that are still over 20 base points (is base points a word? I need some statistics training...) above the next highest racial group, Hispanics. \n",
    "\n",
    "### Up Next\n",
    "I would still like to look into the questions I had expressed in an earlier markdown cell: \n",
    "\n",
    "- Is there a marked difference in the `intent` behind female and males gun deaths? \n",
    "    - I've read that women are more likely to die by partner violence and men are more likely to use guns to commit suicide. So let's compare, shall we?\n",
    "\n",
    "- Is there any noticable uptick in gun deaths during certain times of year?\n",
    "    - I remember reading that violence/crime increases in the summer when people are outdoors. I want to see if this dataset might support that. Also, apparently suicides tick up over the holidays. That would be interesting to see.\n",
    "\n",
    "- Are there any patterns discernable in instances of a gun death where a police officer was involved?\n",
    "    - Bascially, I want to see what race is general involved (I'm predicting mosly black) and what the `intent` is recorded as. \n",
    "    \n",
    "_Additional questions from Dataquest:_\n",
    "\n",
    "- Find out if gun death rates correlate to location and education."
   ]
  },
  {
   "cell_type": "code",
   "execution_count": 2,
   "metadata": {},
   "outputs": [],
   "source": [
    "# reloading data and function(s)\n",
    "\n",
    "import csv\n",
    "\n",
    "data = list(csv.reader(open('guns.csv')))\n",
    "header = data[0]\n",
    "data = data[1:]\n",
    "\n",
    "import datetime\n",
    "\n",
    "dates = [datetime.datetime(year=int(row[1]), month=int(row[2]), day=1) for row in data]\n",
    "\n",
    "def tally_occurrences(data, index):\n",
    "    '''\n",
    "    data: list of lists\n",
    "    index: integer; represents index at which values to be tallied\n",
    "    are located. index values become dictionary keys.\n",
    "    \n",
    "    function takes in a data set comprised of a list of lists and tallies\n",
    "    the number of times a certain value occurs in the dataset. the \n",
    "    result is a dictionary whose values represent the number of times a value\n",
    "    occured in the original dataset.\n",
    "    '''\n",
    "    result = {}\n",
    "    for row in data:\n",
    "        if row[index] in result:\n",
    "            result[row[index]] += 1\n",
    "        else:\n",
    "            result[row[index]] = 1\n",
    "    return result\n",
    "\n",
    "date_counts = {}\n",
    "for item in dates:\n",
    "    if item in date_counts:\n",
    "        date_counts[item] += 1\n",
    "    else:\n",
    "        date_counts[item] = 1"
   ]
  },
  {
   "cell_type": "code",
   "execution_count": 3,
   "metadata": {},
   "outputs": [
    {
     "data": {
      "text/plain": [
       "[['1',\n",
       "  '2012',\n",
       "  '01',\n",
       "  'Suicide',\n",
       "  '0',\n",
       "  'M',\n",
       "  '34',\n",
       "  'Asian/Pacific Islander',\n",
       "  '100',\n",
       "  'Home',\n",
       "  '4'],\n",
       " ['2', '2012', '01', 'Suicide', '0', 'F', '21', 'White', '100', 'Street', '3'],\n",
       " ['3',\n",
       "  '2012',\n",
       "  '01',\n",
       "  'Suicide',\n",
       "  '0',\n",
       "  'M',\n",
       "  '60',\n",
       "  'White',\n",
       "  '100',\n",
       "  'Other specified',\n",
       "  '4'],\n",
       " ['4', '2012', '02', 'Suicide', '0', 'M', '64', 'White', '100', 'Home', '4'],\n",
       " ['5',\n",
       "  '2012',\n",
       "  '02',\n",
       "  'Suicide',\n",
       "  '0',\n",
       "  'M',\n",
       "  '31',\n",
       "  'White',\n",
       "  '100',\n",
       "  'Other specified',\n",
       "  '2']]"
      ]
     },
     "execution_count": 3,
     "metadata": {},
     "output_type": "execute_result"
    }
   ],
   "source": [
    "data[:5]"
   ]
  },
  {
   "cell_type": "code",
   "execution_count": 4,
   "metadata": {},
   "outputs": [
    {
     "data": {
      "text/plain": [
       "{datetime.datetime(2012, 1, 1, 0, 0): 2758,\n",
       " datetime.datetime(2012, 2, 1, 0, 0): 2357,\n",
       " datetime.datetime(2012, 3, 1, 0, 0): 2743,\n",
       " datetime.datetime(2012, 4, 1, 0, 0): 2795,\n",
       " datetime.datetime(2012, 5, 1, 0, 0): 2999,\n",
       " datetime.datetime(2012, 6, 1, 0, 0): 2826,\n",
       " datetime.datetime(2012, 7, 1, 0, 0): 3026,\n",
       " datetime.datetime(2012, 8, 1, 0, 0): 2954,\n",
       " datetime.datetime(2012, 9, 1, 0, 0): 2852,\n",
       " datetime.datetime(2012, 10, 1, 0, 0): 2733,\n",
       " datetime.datetime(2012, 11, 1, 0, 0): 2729,\n",
       " datetime.datetime(2012, 12, 1, 0, 0): 2791,\n",
       " datetime.datetime(2013, 1, 1, 0, 0): 2864,\n",
       " datetime.datetime(2013, 2, 1, 0, 0): 2375,\n",
       " datetime.datetime(2013, 3, 1, 0, 0): 2862,\n",
       " datetime.datetime(2013, 4, 1, 0, 0): 2798,\n",
       " datetime.datetime(2013, 5, 1, 0, 0): 2806,\n",
       " datetime.datetime(2013, 6, 1, 0, 0): 2920,\n",
       " datetime.datetime(2013, 7, 1, 0, 0): 3079,\n",
       " datetime.datetime(2013, 8, 1, 0, 0): 2859,\n",
       " datetime.datetime(2013, 9, 1, 0, 0): 2742,\n",
       " datetime.datetime(2013, 10, 1, 0, 0): 2808,\n",
       " datetime.datetime(2013, 11, 1, 0, 0): 2758,\n",
       " datetime.datetime(2013, 12, 1, 0, 0): 2765,\n",
       " datetime.datetime(2014, 1, 1, 0, 0): 2651,\n",
       " datetime.datetime(2014, 2, 1, 0, 0): 2361,\n",
       " datetime.datetime(2014, 3, 1, 0, 0): 2684,\n",
       " datetime.datetime(2014, 4, 1, 0, 0): 2862,\n",
       " datetime.datetime(2014, 5, 1, 0, 0): 2864,\n",
       " datetime.datetime(2014, 6, 1, 0, 0): 2931,\n",
       " datetime.datetime(2014, 7, 1, 0, 0): 2884,\n",
       " datetime.datetime(2014, 8, 1, 0, 0): 2970,\n",
       " datetime.datetime(2014, 9, 1, 0, 0): 2914,\n",
       " datetime.datetime(2014, 10, 1, 0, 0): 2865,\n",
       " datetime.datetime(2014, 11, 1, 0, 0): 2756,\n",
       " datetime.datetime(2014, 12, 1, 0, 0): 2857}"
      ]
     },
     "execution_count": 4,
     "metadata": {},
     "output_type": "execute_result"
    }
   ],
   "source": [
    "date_counts"
   ]
  },
  {
   "cell_type": "markdown",
   "metadata": {},
   "source": [
    "## Intent\n",
    "- Is there a marked difference in the `intent` behind female and males gun deaths? \n",
    "    - I've read that women are more likely to die by partner violence and men are more likely to use guns to commit suicide. So let's compare, shall we?\n",
    "\n",
    "Will also look at overall counts of gun deaths by `intent` because it'll be fun. \n",
    "\n",
    "#### Steps:\n",
    "\n",
    "1. Look at overall counts of gun deaths by `intent` by tallying all occurrences according to the `intent` column.\n",
    "\n",
    "2. Count overall gun deaths by `intent` and sex; result will be two dictionaries, `female_gun_deaths` and `male_gun_deaths`.\n",
    "\n",
    "3. Compose markdown cell to look at results. \n"
   ]
  },
  {
   "cell_type": "code",
   "execution_count": 5,
   "metadata": {},
   "outputs": [
    {
     "data": {
      "text/plain": [
       "['',\n",
       " 'year',\n",
       " 'month',\n",
       " 'intent',\n",
       " 'police',\n",
       " 'sex',\n",
       " 'age',\n",
       " 'race',\n",
       " 'hispanic',\n",
       " 'place',\n",
       " 'education']"
      ]
     },
     "execution_count": 5,
     "metadata": {},
     "output_type": "execute_result"
    }
   ],
   "source": [
    "header"
   ]
  },
  {
   "cell_type": "code",
   "execution_count": 6,
   "metadata": {},
   "outputs": [
    {
     "name": "stdout",
     "output_type": "stream",
     "text": [
      "{'Suicide': 63175, 'Undetermined': 807, 'Accidental': 1639, 'Homicide': 35176, 'NA': 1}\n"
     ]
    }
   ],
   "source": [
    "overall_intent = tally_occurrences(data, 3)\n",
    "print(overall_intent)"
   ]
  },
  {
   "cell_type": "code",
   "execution_count": 8,
   "metadata": {},
   "outputs": [
    {
     "name": "stdout",
     "output_type": "stream",
     "text": [
      "{'M': 86349, 'F': 14449}\n"
     ]
    }
   ],
   "source": [
    "sex_counts = tally_occurrences(data, 5)\n",
    "print(sex_counts)"
   ]
  },
  {
   "cell_type": "code",
   "execution_count": 11,
   "metadata": {},
   "outputs": [],
   "source": [
    "female_gun_deaths = {}\n",
    "male_gun_deaths = {}\n",
    "\n",
    "for row in data:\n",
    "    if row[5] == \"M\":\n",
    "        if row[3] in male_gun_deaths:\n",
    "            male_gun_deaths[row[3]] += 1\n",
    "        else:\n",
    "            male_gun_deaths[row[3]] = 1\n",
    "    elif row[5] == \"F\":\n",
    "        if row[3] in female_gun_deaths:\n",
    "            female_gun_deaths[row[3]] += 1\n",
    "        else:\n",
    "            female_gun_deaths[row[3]] = 1"
   ]
  },
  {
   "cell_type": "code",
   "execution_count": 12,
   "metadata": {},
   "outputs": [
    {
     "name": "stdout",
     "output_type": "stream",
     "text": [
      "{'Suicide': 8689, 'Homicide': 5373, 'Undetermined': 169, 'Accidental': 218}\n",
      "{'Suicide': 54486, 'Undetermined': 638, 'Accidental': 1421, 'Homicide': 29803, 'NA': 1}\n"
     ]
    }
   ],
   "source": [
    "print(female_gun_deaths)\n",
    "print(male_gun_deaths)"
   ]
  },
  {
   "cell_type": "code",
   "execution_count": 15,
   "metadata": {},
   "outputs": [],
   "source": [
    "# create dictionaries with percentages to help this make a little more sense...\n",
    "\n",
    "female_intent_perc = {}\n",
    "male_intent_perc = {}\n",
    "\n",
    "for key, value in female_gun_deaths.items():\n",
    "    female_intent_perc[key] = (value / 14449) * 100\n",
    "    \n",
    "for key, value in male_gun_deaths.items():\n",
    "    male_intent_perc[key] = (value / 86349) * 100"
   ]
  },
  {
   "cell_type": "code",
   "execution_count": 16,
   "metadata": {},
   "outputs": [
    {
     "name": "stdout",
     "output_type": "stream",
     "text": [
      "{'Suicide': 60.135649525918744, 'Homicide': 37.18596442660392, 'Undetermined': 1.169631116340231, 'Accidental': 1.508754931137103}\n",
      "{'Suicide': 63.099746378070385, 'Undetermined': 0.7388620597806576, 'Accidental': 1.64564731496601, 'Homicide': 34.51458615618016, 'NA': 0.0011580910027909994}\n"
     ]
    }
   ],
   "source": [
    "print(female_intent_perc)\n",
    "print(male_intent_perc)"
   ]
  },
  {
   "cell_type": "markdown",
   "metadata": {},
   "source": [
    "## Intent and Sex Roundup\n",
    "\n",
    "Overall:\n",
    "\n",
    "- `{'Suicide': 63175, 'Undetermined': 807, 'Accidental': 1639, 'Homicide': 35176, 'NA': 1}`\n",
    "\n",
    "Female Stats:\n",
    "\n",
    "- Total gun deaths recorded: 14,449\n",
    "    - Total due to Suicide: 8,689 (60.14%)\n",
    "    - Total due to Homicide: 5,373 (37.19%)\n",
    "    - Total due to Undetermined: 169 (1.17%)\n",
    "    - Total due to Accidental: 218 (1.50%)\n",
    "\n",
    "Male Stats:\n",
    "\n",
    "- Total gun deaths recorded: 86,349\n",
    "    - Total due to Suicide: 54,486 (63.10%)\n",
    "    - Total due to Homicide: 29,803 (34.51%)\n",
    "    - Total due to Undetermined: 638 (0.74%)\n",
    "    - Total due to Accidental: 1,421 (1.65%)\n",
    "    - Total due to NA: 1 (0.0011%)\n",
    "\n",
    "In the beginning I had expected that women would be more likely than men to die from homicide and that men in turn would have a higher proportion dying from suicide. Looking at the percentages above, these assumptions bore out, but they were not very pronounced; each assumption was proven by roughly 3 percentage points each. This is less than expected, but still noticeable. \n",
    "\n",
    "## Next up: \n",
    "\n",
    "- Is there any noticable uptick in gun deaths during certain times of year?\n",
    "    - I remember reading that violence/crime increases in the summer when people are outdoors. I want to see if this dataset might support that.\n",
    "    \n",
    "- Does cause of death change with the months of the year? \n",
    "    - Apparently suicides tick up over the holidays. That would be interesting to see.\n",
    "\n",
    "#### Steps:\n",
    "\n",
    "- Loop over `data` dataset, to create a new dictionary that includes totals for all months 2012-2014.\n",
    "\n",
    "- Create dictionaries per month that look at the number of deaths by `intent` and adds up the occurences.\n",
    "\n",
    "- Turn month totals into percentages.\n",
    "\n",
    "- Markdown cell looking at results.\n"
   ]
  },
  {
   "cell_type": "code",
   "execution_count": 19,
   "metadata": {},
   "outputs": [
    {
     "name": "stdout",
     "output_type": "stream",
     "text": [
      "{'01': 8273, '02': 7093, '03': 8289, '04': 8455, '05': 8669, '06': 8677, '07': 8989, '08': 8783, '09': 8508, '10': 8406, '11': 8243, '12': 8413}\n"
     ]
    }
   ],
   "source": [
    "month_total = tally_occurrences(data, 2)\n",
    "print(month_total)"
   ]
  },
  {
   "cell_type": "code",
   "execution_count": 20,
   "metadata": {},
   "outputs": [],
   "source": [
    "def get_month_totals(data, index, month):\n",
    "    '''\n",
    "    data: list of lists\n",
    "    index: integer; index that points to the values to be tallied, in this case under the intent column\n",
    "    month: integer, 1-12 representing a month out of the year\n",
    "    \n",
    "    function returns a dictionary that contains totals for for each indexed value during that month within the dataset.\n",
    "    values at index are keys.\n",
    "    '''\n",
    "    result = {}\n",
    "    for row in data:\n",
    "        if row[2] == month:\n",
    "            if row[index] in result:\n",
    "                result[row[index]] += 1\n",
    "            else:\n",
    "                result[row[index]] = 1\n",
    "    return result\n",
    "            \n",
    "            "
   ]
  },
  {
   "cell_type": "code",
   "execution_count": 24,
   "metadata": {},
   "outputs": [],
   "source": [
    "Jan_intents = get_month_totals(data, 3, '01')\n",
    "Feb_intents = get_month_totals(data, 3, '02')\n",
    "Mar_intents = get_month_totals(data, 3, '03')\n",
    "Apr_intents = get_month_totals(data, 3, '04')\n",
    "May_intents = get_month_totals(data, 3, '05')\n",
    "Jun_intents = get_month_totals(data, 3, '06')\n",
    "Jul_intents = get_month_totals(data, 3, '07')\n",
    "Aug_intents = get_month_totals(data, 3, '08')\n",
    "Sep_intents = get_month_totals(data, 3, '09')\n",
    "Oct_intents = get_month_totals(data, 3, '10')\n",
    "Nov_intents = get_month_totals(data, 3, '11')\n",
    "Dec_intents = get_month_totals(data, 3, '12')"
   ]
  },
  {
   "cell_type": "code",
   "execution_count": 26,
   "metadata": {},
   "outputs": [
    {
     "name": "stdout",
     "output_type": "stream",
     "text": [
      "{'Suicide': 5220, 'Homicide': 2829, 'Accidental': 152, 'Undetermined': 72}\n",
      "{'Suicide': 4732, 'Undetermined': 56, 'Accidental': 127, 'Homicide': 2178}\n",
      "{'Suicide': 5309, 'Homicide': 2780, 'Undetermined': 66, 'Accidental': 134}\n",
      "{'Suicide': 5438, 'Homicide': 2845, 'Undetermined': 73, 'Accidental': 98, 'NA': 1}\n",
      "{'Suicide': 5506, 'Accidental': 115, 'Homicide': 2976, 'Undetermined': 72}\n",
      "{'Homicide': 3130, 'Suicide': 5367, 'Undetermined': 68, 'Accidental': 112}\n",
      "{'Homicide': 3269, 'Suicide': 5514, 'Accidental': 149, 'Undetermined': 57}\n",
      "{'Homicide': 3125, 'Suicide': 5421, 'Accidental': 164, 'Undetermined': 73}\n",
      "{'Accidental': 118, 'Suicide': 5343, 'Undetermined': 81, 'Homicide': 2966}\n",
      "{'Suicide': 5256, 'Homicide': 2968, 'Undetermined': 51, 'Accidental': 131}\n",
      "{'Suicide': 5086, 'Homicide': 2919, 'Accidental': 160, 'Undetermined': 78}\n",
      "{'Suicide': 4983, 'Homicide': 3191, 'Undetermined': 60, 'Accidental': 179}\n"
     ]
    }
   ],
   "source": [
    "print(Jan_intents)\n",
    "print(Feb_intents)\n",
    "print(Mar_intents)\n",
    "print(Apr_intents)\n",
    "print(May_intents)\n",
    "print(Jun_intents)\n",
    "print(Jul_intents)\n",
    "print(Aug_intents)\n",
    "print(Sep_intents)\n",
    "print(Oct_intents)\n",
    "print(Nov_intents)\n",
    "print(Dec_intents)"
   ]
  },
  {
   "cell_type": "code",
   "execution_count": 2,
   "metadata": {},
   "outputs": [],
   "source": [
    "import csv\n",
    "\n",
    "data = list(csv.reader(open('guns.csv')))\n",
    "header = data[0]\n",
    "data = data[1:]\n",
    "\n",
    "import datetime\n",
    "\n",
    "dates = [datetime.datetime(year=int(row[1]), month=int(row[2]), day=1) for row in data]\n",
    "\n",
    "def tally_occurrences(data, index):\n",
    "    '''\n",
    "    data: list of lists\n",
    "    index: integer; represents index at which values to be tallied\n",
    "    are located. index values become dictionary keys.\n",
    "    \n",
    "    function takes in a data set comprised of a list of lists and tallies\n",
    "    the number of times a certain value occurs in the dataset. the \n",
    "    result is a dictionary whose values represent the number of times a value\n",
    "    occured in the original dataset.\n",
    "    '''\n",
    "    result = {}\n",
    "    for row in data:\n",
    "        if row[index] in result:\n",
    "            result[row[index]] += 1\n",
    "        else:\n",
    "            result[row[index]] = 1\n",
    "    return result\n",
    "\n",
    "date_counts = {}\n",
    "for item in dates:\n",
    "    if item in date_counts:\n",
    "        date_counts[item] += 1\n",
    "    else:\n",
    "        date_counts[item] = 1\n",
    "\n",
    "month_total = tally_occurrences(data, 2)\n",
    "\n",
    "def get_month_totals(data, index, month):\n",
    "    '''\n",
    "    data: list of lists\n",
    "    index: integer; index that points to the values to be tallied, in this case under the \n",
    "    intent column\n",
    "    month: string, zero padded, 2 digit number; 01-12 representing a month out of the year\n",
    "    \n",
    "    function returns a dictionary that contains totals for for each indexed value during that month within the dataset.\n",
    "    values at index are keys.\n",
    "    '''\n",
    "    result = {}\n",
    "    for row in data:\n",
    "        if row[2] == month:\n",
    "            if row[index] in result:\n",
    "                result[row[index]] += 1\n",
    "            else:\n",
    "                result[row[index]] = 1\n",
    "    return result\n",
    "\n",
    "\n",
    "Jan_intents = get_month_totals(data, 3, '01')\n",
    "Feb_intents = get_month_totals(data, 3, '02')\n",
    "Mar_intents = get_month_totals(data, 3, '03')\n",
    "Apr_intents = get_month_totals(data, 3, '04')\n",
    "May_intents = get_month_totals(data, 3, '05')\n",
    "Jun_intents = get_month_totals(data, 3, '06')\n",
    "Jul_intents = get_month_totals(data, 3, '07')\n",
    "Aug_intents = get_month_totals(data, 3, '08')\n",
    "Sep_intents = get_month_totals(data, 3, '09')\n",
    "Oct_intents = get_month_totals(data, 3, '10')\n",
    "Nov_intents = get_month_totals(data, 3, '11')\n",
    "Dec_intents = get_month_totals(data, 3, '12')"
   ]
  },
  {
   "cell_type": "code",
   "execution_count": 6,
   "metadata": {},
   "outputs": [],
   "source": [
    "import pylab as plt"
   ]
  },
  {
   "cell_type": "code",
   "execution_count": 11,
   "metadata": {},
   "outputs": [
    {
     "data": {
      "text/plain": [
       "[<matplotlib.lines.Line2D at 0x116b9be80>]"
      ]
     },
     "execution_count": 11,
     "metadata": {},
     "output_type": "execute_result"
    },
    {
     "data": {
      "image/png": "[encoded data removed]",
      "text/plain": [
       "<matplotlib.figure.Figure at 0x116953ac8>"
      ]
     },
     "metadata": {},
     "output_type": "display_data"
    },
    {
     "data": {
      "image/png": "[encoded data removed]",
      "text/plain": [
       "<matplotlib.figure.Figure at 0x116a4a5c0>"
      ]
     },
     "metadata": {},
     "output_type": "display_data"
    },
    {
     "data": {
      "image/png": "[encoded data removed]",
      "text/plain": [
       "<matplotlib.figure.Figure at 0x116b9b6d8>"
      ]
     },
     "metadata": {},
     "output_type": "display_data"
    }
   ],
   "source": [
    "#y values taken from month intent totals above\n",
    "#the first time I tried to use strings for x_values and it was a scribbly mess... it alphabetized everything\n",
    "months_x = [1, 2, 3, 4, 5, 6, 7, 8, 9, 10, 11, 12]\n",
    "homicide_y = [2829, 2178, 2780, 2845, 2976, 3130, 3269, 3125, 2966, 2968, 2919, 3191]\n",
    "suicide_y = [5220, 4732, 5309, 5438, 5506, 5367, 5514, 5421, 5343, 5256, 5086, 4983]\n",
    "accidental_y = [152, 127, 134, 98, 115, 112, 149, 164, 118, 131, 160, 179]\n",
    "undetermined_y = [72, 56, 66, 73, 72, 68, 57, 73, 81, 51, 78, 60]\n",
    "\n",
    "plt.figure('homicide')\n",
    "plt.clf()\n",
    "plt.title('Total Homicide Gun Deaths per Month, 2012-2014')\n",
    "plt.xlabel(\"Months\")\n",
    "plt.ylabel(\"Total Deaths\")\n",
    "plt.plot(months_x, homicide_y, 'r-')\n",
    "\n",
    "plt.figure('suicide')\n",
    "plt.clf()\n",
    "plt.title('Total Suicide Gun Deaths per Month, 2012-2014')\n",
    "plt.xlabel(\"Months\")\n",
    "plt.ylabel(\"Total Deaths\")\n",
    "plt.plot(months_x, suicide_y, 'b-')\n",
    "\n",
    "plt.figure('accident')\n",
    "plt.clf()\n",
    "plt.title('Total Accidental Gun Deaths per Month, 2012-2014')\n",
    "plt.xlabel(\"Months\")\n",
    "plt.ylabel(\"Total Deaths\")\n",
    "plt.plot(months_x, accidental_y, 'g-')"
   ]
  },
  {
   "cell_type": "code",
   "execution_count": 12,
   "metadata": {},
   "outputs": [
    {
     "data": {
      "text/plain": [
       "[<matplotlib.lines.Line2D at 0x116934ef0>]"
      ]
     },
     "execution_count": 12,
     "metadata": {},
     "output_type": "execute_result"
    },
    {
     "data": {
      "image/png": "[encoded data removed]",
      "text/plain": [
       "<matplotlib.figure.Figure at 0x116750da0>"
      ]
     },
     "metadata": {},
     "output_type": "display_data"
    }
   ],
   "source": [
    "month_total_y = [8273, 7093, 8289, 8455, 8669, 8677, 8989, 8783, 8508, 8406, 8243, 8413]\n",
    "\n",
    "plt.figure('total')\n",
    "plt.clf()\n",
    "plt.title('Total Gun Deaths per Month, 2012-2014')\n",
    "plt.xlabel(\"Months\")\n",
    "plt.ylabel(\"Total Deaths\")\n",
    "plt.plot(months_x, month_total_y, 'k-')"
   ]
  },
  {
   "cell_type": "markdown",
   "metadata": {},
   "source": [
    "## Intent Roundup\n",
    "\n",
    "Overall:\n",
    "I made graphs. I'm so proud. \n",
    "\n",
    "Starting out I had two main hypotheses: \n",
    "- There would be higher rates of homicide in the summer.\n",
    "- There would be higher rates of suicide in the winter (around the holidays).\n",
    "\n",
    "In the end, only my hypothesis that homicide rates would be higher in the summer have born out. July had the greatest total of homicide-related gun deaths with over 3,200 recorded incidents. On the other hand, Suicide rates did the exact opposite of what I had expected, rising dramatically in the summer with peaks in May and July and falling steadily in the second half of the year. I'm not sure why this would be the case considering the increase in sunlight and warm weather. The one event I can think of is summer break. It may be interesting to see if the ages of suicide deaths change throughout the year. \n",
    "\n",
    "According to this dataset, February is the safest month for gun violence, but part of this might be that it's the shortest month of the year. The other part being that it's normally cold as shit. \n",
    "\n",
    "## Next Up\n",
    "\n",
    "I'm going to see if I calculate average age for suicides per month to see if that changes. "
   ]
  },
  {
   "cell_type": "code",
   "execution_count": 13,
   "metadata": {},
   "outputs": [
    {
     "data": {
      "text/plain": [
       "['',\n",
       " 'year',\n",
       " 'month',\n",
       " 'intent',\n",
       " 'police',\n",
       " 'sex',\n",
       " 'age',\n",
       " 'race',\n",
       " 'hispanic',\n",
       " 'place',\n",
       " 'education']"
      ]
     },
     "execution_count": 13,
     "metadata": {},
     "output_type": "execute_result"
    }
   ],
   "source": [
    "header"
   ]
  },
  {
   "cell_type": "code",
   "execution_count": 14,
   "metadata": {},
   "outputs": [
    {
     "data": {
      "text/plain": [
       "[['1',\n",
       "  '2012',\n",
       "  '01',\n",
       "  'Suicide',\n",
       "  '0',\n",
       "  'M',\n",
       "  '34',\n",
       "  'Asian/Pacific Islander',\n",
       "  '100',\n",
       "  'Home',\n",
       "  '4'],\n",
       " ['2', '2012', '01', 'Suicide', '0', 'F', '21', 'White', '100', 'Street', '3'],\n",
       " ['3',\n",
       "  '2012',\n",
       "  '01',\n",
       "  'Suicide',\n",
       "  '0',\n",
       "  'M',\n",
       "  '60',\n",
       "  'White',\n",
       "  '100',\n",
       "  'Other specified',\n",
       "  '4'],\n",
       " ['4', '2012', '02', 'Suicide', '0', 'M', '64', 'White', '100', 'Home', '4'],\n",
       " ['5',\n",
       "  '2012',\n",
       "  '02',\n",
       "  'Suicide',\n",
       "  '0',\n",
       "  'M',\n",
       "  '31',\n",
       "  'White',\n",
       "  '100',\n",
       "  'Other specified',\n",
       "  '2']]"
      ]
     },
     "execution_count": 14,
     "metadata": {},
     "output_type": "execute_result"
    }
   ],
   "source": [
    "data[:5]"
   ]
  },
  {
   "cell_type": "code",
   "execution_count": 48,
   "metadata": {},
   "outputs": [
    {
     "name": "stdout",
     "output_type": "stream",
     "text": [
      "[34, 21, 60, 21, 59, 30, 58, 78, 60, 61, 55, 66, 52, 63, 40, 23, 57, 81, 63, 54, 46, 52, 59, 31, 64, 36, 40, 45, 47, 53, 55, 26, 28, 25, 68, 49, 48, 68, 45, 47, 37, 62, 60, 53, 36, 41, 25, 30, 41, 39, 35, 23, 19, 33, 23, 46, 21, 42, 34, 50, 25, 67, 56, 55, 17, 42, 29, 82, 54, 22, 47, 24, 19, 61, 77, 34, 54, 75, 40, 36, 39, 20, 28, 20, 78, 60, 58, 59, 73, 57, 28, 16, 31, 71, 42, 32, 48, 82, 56, 41, 37, 53, 32, 24, 38, 51, 37, 57, 29, 35, 36, 39, 40, 51, 36, 33, 28, 15, 19, 55, 83, 36, 43, 23, 32, 26, 61, 16, 54, 70, 75, 33, 37, 19, 24, 38, 80, 36, 30, 42, 65, 64, 24, 55, 35, 17, 44, 19, 21, 69, 24, 61, 62, 62, 29, 70, 21, 71, 39, 54, 82, 60, 40, 34, 38, 28, 32, 21, 25, 28, 80, 23, 72, 32, 32, 50, 46, 22, 24, 67, 18, 25, 26, 18, 59, 56, 91, 42, 66, 32, 51, 47, 35, 64, 64, 49, 69, 21, 43, 25, 50, 83, 40, 18, 30, 78, 39, 72, 59, 64, 39, 78, 35, 47, 22, 41, 24, 50, 24, 67, 22, 35, 51, 59, 24, 75, 60, 48, 77, 44, 25, 24, 29, 55, 25, 21, 16, 19, 20, 48, 55, 54, 24, 18, 52, 18, 21, 76, 63, 89, 24, 23, 34, 62, 16, 37, 44, 54, 88, 23, 14, 56, 22, 36, 52, 70, 52, 27, 48, 19, 26, 26, 52, 78, 19, 32, 55, 91, 21, 51, 22, 19, 57, 37, 52, 55, 26, 52, 51, 21, 53, 69, 91, 22, 79, 38, 38, 79, 47, 34, 16, 46, 44, 24, 20, 24, 48, 40, 23, 35, 69, 37, 68, 71, 58, 47, 42, 20, 90, 38, 41, 50, 18, 51, 26, 26, 36, 41, 17, 1, 3, 27, 61, 40, 17, 29, 65, 51, 66, 75, 25, 22, 29, 37, 55, 67, 84, 41, 58, 31, 57, 23, 44, 59, 43, 29, 22, 38, 45, 22, 21, 42, 59, 60, 63, 24, 29, 21, 20, 34, 58, 22, 33, 47, 29, 55, 59, 58, 18, 33, 63, 27, 26, 81, 28, 72, 17, 52, 72, 32, 31, 30, 35, 56, 52, 26, 65, 32, 20, 66, 44, 45, 75, 17, 47, 51, 61, 86, 31, 42, 25, 41, 22, 21, 37, 30, 80, 20, 39, 31, 21, 75, 20, 21, 57, 22, 2, 44, 29, 73, 31, 55, 86, 23, 20, 29, 20, 30, 24, 24, 52, 47, 60, 19, 22, 54, 18, 19, 23, 41, 56, 19, 35, 27, 31, 54, 50, 36, 55, 54, 84, 26, 64, 19, 38, 75, 30, 24, 41, 15, 54, 38, 27, 64, 26, 31, 43, 62, 34, 63, 47, 56, 30, 19, 53, 28, 63, 45, 45, 22, 36, 49, 56, 80, 71, 54, 73, 38, 41, 49, 46, 53, 31, 29, 58, 43, 30, 69, 57, 63, 54, 53, 30, 89, 33, 19, 30, 42, 29, 84, 53, 57, 14, 58, 46, 70, 36, 60, 23, 53, 60, 20, 24, 51, 53, 48, 53, 49, 34, 21, 64, 29, 26, 14, 56, 35, 48, 44, 21, 69, 44, 60, 37, 19, 18, 77, 51, 42, 69, 75, 76, 18, 26, 68, 18, 27, 17, 45, 43, 29, 57, 32, 19, 34, 74, 49, 51, 55, 50, 24, 22, 19, 70, 62, 83, 50, 49, 17, 65, 21, 44, 17, 74, 48, 21, 36, 30, 26, 59, 87, 65, 24, 20, 39, 52, 28, 22, 87, 38, 50, 52, 34, 69, 61, 69, 21, 51, 80, 76, 95, 52, 55, 72, 34, 29, 54, 37, 48, 54, 56, 70, 51, 37, 43, 24, 76, 55, 21, 21, 50, 78, 68, 24, 46, 22, 33, 15, 78, 31, 52, 23, 32, 46, 28, 51, 0, 21, 19, 72, 40, 50, 22, 68, 66, 78, 49, 47, 47, 20, 18, 30, 84, 63, 74, 41, 33, 62, 17, 42, 31, 20, 47, 36, 50, 21, 48, 29, 50, 31, 30, 17, 56, 61, 45, 69, 61, 39, 17, 58, 50, 90, 70, 58, 49, 19, 55, 79, 49, 72, 56, 69, 34, 58, 49, 18, 25, 91, 18, 22, 26, 78, 45, 38, 73, 14, 25, 63, 33, 82, 78, 23, 28, 85, 22, 24, 88, 22, 21, 51, 19, 76, 66, 58, 23, 69, 25, 46, 57, 30, 27, 74, 59, 17, 55, 44, 30, 17, 39, 39, 17, 58, 36, 70, 34, 69, 41, 65, 66, 61, 58, 45, 54, 76, 21, 72, 43, 60, 15, 54, 23, 67, 60, 72, 81, 67, 50, 69, 82, 40, 40, 58, 50, 27, 40, 16, 6, 17, 21, 49, 33, 21, 17, 14, 20, 47, 63, 48, 60, 66, 52, 48, 21, 70, 60, 54, 41, 17, 68, 45, 21, 57, 73, 29, 24, 31, 23, 24, 38, 60, 47, 41, 69, 30, 30, 53, 82, 53, 46, 50, 39, 31, 37, 23, 56, 56, 33, 37, 28, 15, 31, 65, 24, 24, 28, 37, 33, 56, 23, 29, 23, 46, 25, 56, 34, 23, 53, 61, 56, 62, 21, 26, 60, 88, 13, 50, 48, 23, 23, 22, 17, 41, 40, 39, 54, 45, 76, 44, 47, 39, 15, 52, 55, 22, 61, 22, 73, 27, 51, 88, 76, 26, 21, 35, 18, 68, 33, 47, 15, 88, 23, 58, 19, 50, 50, 25, 88, 57, 50, 32, 61, 47, 71, 71, 26, 68, 15, 51, 26, 39, 17, 26, 52, 47, 32, 19, 64, 32, 48, 26, 24, 64, 31, 29, 18, 36, 54, 43, 59, 18, 23, 2, 34, 31, 14, 22, 22, 83, 52, 42, 38, 19, 27, 15, 22, 26, 39, 19, 16, 40, 12, 34, 23, 22, 56, 68, 29, 24, 62, 56, 48, 21, 84, 27, 46, 79, 55, 49, 18, 53, 47, 33, 22, 35, 26, 34, 33, 20, 19, 18, 51, 59, 39, 44, 15, 21, 22, 47, 43, 41, 51, 18, 37, 34, 74, 58, 45, 21, 29, 28, 57, 61, 40, 70, 74, 52, 59, 47, 24, 68, 83, 73, 42, 32, 26, 42, 24, 28, 18, 16, 23, 50, 21, 42, 46, 33, 25, 23, 94, 25, 38, 51, 27, 26, 38, 52, 19, 55, 57, 36, 42, 12, 26, 64, 48, 45, 41, 17, 21, 35, 56, 92, 23, 63, 41, 21, 56, 58, 28, 29, 42, 58, 44, 48, 47, 45, 26, 57, 22, 21, 36, 19, 82, 25, 37, 39, 37, 44, 19, 46, 20, 57, 23, 36, 72, 34, 21, 89, 95, 50, 30, 76, 16, 94, 84, 83, 19, 33, 21, 41, 87, 83, 46, 41, 70, 45, 32, 22, 24, 74, 29, 46, 46, 59, 67, 66, 44, 55, 53, 52, 62, 39, 43, 30, 68, 55, 36, 31, 22, 26, 44, 38, 34, 37, 81, 40, 60, 24, 34, 34, 41, 17, 19, 11, 33, 34, 21, 47, 28, 19, 61, 37, 41, 30, 21, 25, 37, 64, 61, 21, 36, 25, 21, 44, 20, 41, 21, 68, 29, 27, 19, 41, 64, 26, 49, 59, 64, 25, 59, 32, 15, 31, 72, 26, 24, 21, 81, 21, 66, 18, 20, 43, 26, 45, 35, 19, 22, 21, 44, 26, 51, 46, 30, 23, 32, 32, 36, 61, 19, 23, 47, 35, 49, 36, 22, 55, 68, 18, 36, 48, 54, 45, 45, 82, 51, 90, 41, 59, 74, 83, 64, 42, 32, 38, 37, 32, 43, 54, 41, 56, 54, 62, 27, 44, 30, 42, 35, 49, 54, 61, 87, 30, 73, 56, 62, 58, 60, 79, 22, 20, 93, 19, 21, 32, 18, 61, 73, 17, 36, 20, 79, 36, 53, 50, 24, 19, 29, 19, 21, 43, 20, 26, 19, 21, 54, 53, 18, 24, 62, 47, 52, 53, 43, 22, 44, 61, 61, 49, 75, 74, 49, 51, 53, 57, 75, 51, 58, 64, 48, 23, 39, 63, 34, 15, 31, 36, 34, 25, 61, 41, 22, 21, 59, 44, 61, 56, 22, 40, 41, 36, 68, 46, 33, 19, 50, 44, 27, 50, 28, 55, 15, 18, 32, 23, 25, 28, 43, 52, 53, 69, 54, 60, 37, 51, 28, 69, 21, 57, 19, 33, 20, 14, 37, 47, 79, 38, 61, 31, 56, 33, 60, 46, 45, 61, 29, 54, 51, 25, 58, 59, 45, 69, 12, 20, 23, 57, 45, 27, 23, 47, 45, 38, 21, 53, 21, 23, 19, 74, 17, 14, 20, 26, 22, 26, 33, 26, 58, 54, 29, 85, 63, 59, 87, 32, 28, 22, 17, 34, 18, 83, 39, 56, 15, 60, 69, 53, 16, 27, 37, 41, 20, 17, 16, 41, 52, 32, 43, 39, 47, 60, 44, 55, 74, 41, 51, 36, 19, 50, 54, 67, 62, 30, 14, 39, 28, 53, 66, 22, 41, 54, 29, 28, 67, 52, 56, 47, 19, 51, 69, 44, 45, 28, 33, 57, 41, 84, 60, 46, 26, 62, 22, 20, 31, 59, 52, 32, 24, 35, 38, 34, 58, 52, 16, 35, 20, 21, 39, 34, 37, 55, 46, 68, 18, 56, 77, 19, 37, 56, 23, 38, 76, 64, 31, 56, 52, 49, 37, 38, 27, 39, 35, 16, 46, 19, 42, 32, 29, 42, 29, 60, 82, 24, 36, 37, 30, 32, 26, 64, 18, 64, 30, 62, 56, 20, 32, 56, 34, 36, 27, 23, 34, 55, 51, 60, 60, 34, 25, 49, 41, 24, 35, 30, 17, 45, 60, 83, 53, 23, 27, 54, 30, 55, 20, 22, 70, 24, 22, 20, 18, 63, 88, 49, 48, 22, 51, 21, 35, 27, 34, 48, 23, 22, 22, 34, 29, 86, 39, 27, 63, 21, 28, 25, 50, 20, 29, 55, 25, 46, 47, 76, 62, 42, 24, 47, 50, 45, 44, 72, 16, 42, 19, 59, 23, 52, 32, 25, 32, 34, 61, 20, 56, 50, 33, 50, 52, 88, 73, 26, 26, 45, 50, 54, 50, 56, 36, 59, 24, 57, 47, 47, 58, 36, 32, 46, 68, 24, 72, 51, 34, 47, 25, 50, 29, 22, 38, 22, 26, 42, 30, 33, 26, 33, 47, 38, 79, 21, 23, 49, 11, 61, 43, 59, 67, 18, 42, 20, 53, 24, 36, 30, 57, 24, 38, 21, 47, 50, 28, 25, 45, 26, 61, 29, 91, 37, 26, 79, 25, 22, 26, 53, 70, 21, 50, 23, 23, 43, 39, 21, 82, 51, 36, 23, 38, 78, 80, 25, 24, 36, 53, 64, 45, 62, 47, 85, 51, 16, 21, 19, 35, 48, 58, 24, 26, 50, 18, 40, 59, 41, 61, 20, 84, 57, 36, 48, 85, 31, 79, 41, 64, 50, 54, 17, 22, 42, 52, 56, 57, 28, 72, 40, 64, 48, 24, 69, 36, 19, 73, 58, 19, 43, 76, 64, 32, 61, 27, 25, 42, 23, 57, 51, 46, 57, 30, 66, 69, 61, 27, 53, 49, 54, 18, 64, 46, 84, 86, 58, 47, 40, 89, 58, 44, 55, 49, 36, 41, 24, 41, 80, 75, 65, 68, 63, 59, 24, 87, 66, 87, 81, 38, 70, 63, 77, 60, 45, 53, 41, 21, 26, 18, 83, 59, 51, 64, 29, 35, 51, 75, 66, 19, 23, 63, 60, 51, 56, 37, 27, 25, 19, 32, 51, 58, 45, 36, 78, 28, 50, 32, 47, 70, 74, 21, 71, 56, 62, 26, 30, 29, 18, 59, 28, 18, 51, 27, 28, 52, 21, 56, 51, 18, 24, 40, 24, 20, 43, 69, 70, 41, 17, 19, 46, 43, 17, 40, 19, 78, 24, 26, 23, 30, 40, 23, 19, 78, 23, 63, 66, 56, 24, 29, 48, 34, 31, 51, 31, 14, 54, 62, 17, 19, 25, 27, 61, 23, 59, 52, 54, 84, 47, 81, 17, 55, 51, 38, 24, 34, 40, 17, 36, 25, 21, 24, 21, 58, 19, 22, 89, 86, 66, 81, 37, 32, 50, 41, 84, 59, 14, 27, 38, 44, 31, 62, 51, 67, 66, 45, 62, 42, 26, 20, 41, 41, 63, 28, 31, 32, 48, 20, 41, 40, 42, 49, 27, 27, 33, 49, 68, 27, 16, 37, 32, 29, 20, 56, 30, 21, 40, 79, 63, 66, 22, 51, 52, 58, 22, 22, 76, 52, 25, 66, 59, 60, 68, 18, 24, 46, 52, 36, 60, 45, 40, 21, 29, 47, 65, 23, 14, 26, 19, 46, 58, 51, 16, 23, 32, 29, 77, 23, 44, 48, 56, 46, 23, 21, 69, 35, 30, 29, 19, 29, 40, 45, 51, 63, 35, 28, 45, 29, 48, 22, 57, 78, 28, 20, 88, 61, 49, 42, 42, 55, 57, 51, 18, 19, 15, 16, 40, 21, 31, 26, 17, 28, 32, 28, 20, 20, 47, 19, 51, 17, 39, 90, 27, 29, 38, 14, 43, 24, 82, 40, 14, 32, 26, 31, 28, 78, 70, 65, 32, 52, 36, 63, 51, 27, 55, 31, 19, 40, 43, 69, 19, 47, 63, 59, 19, 69, 80, 23, 24, 30, 25, 43, 23, 27, 49, 50, 40, 48, 27, 54, 78, 58, 29, 34, 24, 41, 55, 53, 36, 30, 24, 22, 35, 29, 19, 34, 23, 68, 29, 52, 61, 55, 24, 18, 64, 26, 48, 48, 48, 21, 66, 37, 18, 24, 48, 25, 34, 21, 40, 51, 62, 30, 53, 26, 30, 50, 41, 47, 48, 58, 67, 52, 72, 43, 35, 21, 20, 32, 23, 39, 17, 35, 82, 63, 53, 60, 39, 18, 22, 33, 33, 52, 19, 45, 20, 36, 20, 33, 31, 33, 85, 23, 47, 61, 81, 34, 23, 63, 43, 35, 27, 36, 28, 21, 25, 72, 47, 54, 42, 57, 62, 27, 64, 21, 40, 43, 17, 59, 71, 58, 24, 49, 73, 50, 69, 49, 68, 36, 58, 24, 46, 23, 56, 40, 26, 59, 53, 7, 21, 75, 65, 67, 20, 77, 57, 53, 23, 36, 18, 26, 55, 28, 65, 40, 35, 48, 32, 28, 37, 69, 77, 38, 24, 80, 56, 73, 15, 56, 44, 33, 31, 75, 61, 46, 75, 23, 27, 36, 15, 42, 39, 80, 54, 62, 46, 26, 24, 61, 86, 77, 67, 25, 32, 31, 39, 57, 28, 60, 66, 37, 67, 23, 31, 45, 61, 21, 36, 50, 32, 70, 26, 80, 72, 71, 35, 17, 42, 18, 40, 20, 62, 41, 18, 50, 25, 65, 41, 49, 52, 20, 33, 53, 24, 31, 22, 28, 24, 46, 64, 81, 20, 16, 42, 44, 31, 39, 37, 20, 18, 81, 16, 17, 51, 32, 53, 67, 30, 45, 29, 25, 45, 73, 20, 71, 41, 72, 19, 76, 42, 59, 63, 43, 50, 29, 54, 83, 36, 51, 55, 57, 22, 90, 39, 82, 24, 54, 62, 21, 73, 17, 19, 20, 45, 22, 21, 82, 49, 27, 61, 31, 23, 17, 86, 81, 45, 83, 42, 27, 52, 21, 22, 34, 23, 20, 60, 68, 20, 45, 83, 50, 31, 40, 28, 25, 62, 66, 56, 48, 34, 56, 79, 21, 26, 64, 29, 48, 25, 21, 17, 68, 26, 45, 63, 49, 34, 39, 19, 18, 36, 25, 20, 47, 38, 44, 22, 49, 43, 21, 58, 80, 61, 45, 22, 51, 13, 56, 24, 72, 70, 35, 39, 26, 33, 54, 36, 32, 18, 30, 24, 42, 17, 76, 20, 77, 42, 73, 34, 62, 14, 46, 44, 45, 27, 49, 32, 40, 24, 30, 19, 29, 30, 21, 40, 43, 27, 50, 61, 75, 31, 76, 23, 60, 53, 50, 22, 12, 31, 27, 76, 42, 61, 68, 38, 22, 43, 23, 75, 42, 84, 45, 67, 31, 21, 48, 19, 44, 80, 49, 71, 16, 81, 22, 56, 41, 84, 83, 33, 90, 49, 60, 16, 78, 51, 51, 61, 40, 27, 39, 75, 24, 50, 26, 34, 37, 22, 44, 32, 34, 25, 60, 34, 31, 66, 66, 55, 60, 50, 52, 60, 27, 17, 83, 29, 74, 38, 22, 50, 57, 75, 30, 21, 69, 40, 35, 48, 73, 30, 42, 50, 58, 22, 37, 56, 25, 60, 54, 31, 57, 61, 18, 47, 39, 28, 49, 52, 20, 66, 54, 75, 45, 57, 23, 19, 16, 75, 37, 43, 19, 18, 53, 60, 54, 44, 58, 30, 55, 49, 44, 18, 36, 61, 41, 34, 31, 20, 16, 34, 22, 45, 42, 35, 45, 33, 23, 26, 50, 50, 32, 40, 43, 47, 54, 23, 58, 53, 52, 34, 35, 24, 41, 39, 9, 55, 23, 37, 38, 27, 17, 21, 13, 34, 18, 20, 45, 59, 62, 20, 26, 52, 28, 26, 39, 50, 20, 22, 57, 26, 37, 43, 17, 33, 37, 38, 27, 22, 15, 20, 81, 83, 22, 52, 65, 47, 70, 59, 44, 30, 88, 12, 77, 46, 24, 47, 13, 39, 21, 27, 49, 58, 25, 56, 64, 51, 43, 17, 29, 81, 20, 31, 30, 46, 59, 59, 51, 40, 26, 80, 77, 23, 41, 48, 44, 21, 31, 25, 66, 20, 18, 32, 29, 31, 51, 46, 26, 37, 95, 14, 54, 41, 45, 22, 53, 52, 50, 43, 40, 27, 88, 23, 67, 45, 78, 75, 36, 51, 24, 27, 49, 40, 55, 35, 30, 66, 25, 33, 34, 27, 16, 26, 20, 41, 53, 68, 21, 40, 49, 36, 27, 72, 53, 21, 20, 23, 53, 63, 63, 38, 49, 55, 61, 19, 43, 44, 17, 25, 59, 28, 25, 49, 20, 57, 53, 52, 42, 46, 39, 23, 57, 52, 84, 63, 74, 25, 39, 57, 30, 35, 92, 44, 35, 25, 79, 54, 21, 59, 17, 20, 22, 55, 81, 28, 30, 31, 83, 18, 33, 27, 40, 25, 17, 42, 54, 48, 54, 63, 48, 64, 27, 31, 26, 26, 49, 41, 52, 77, 48, 54, 29, 60, 70, 60, 56, 23, 21, 47, 19, 29, 71, 27, 74, 43, 42, 59, 40, 70, 67, 21, 49, 82, 43, 28, 46, 20, 48, 62, 59, 38, 52, 40, 50, 29, 20, 44, 74, 35, 10, 67, 17, 20, 51, 42, 42, 44, 61, 49, 29, 60, 76, 53, 49, 70, 25, 24, 44, 66, 53, 52, 18, 34, 30, 50, 33, 28, 56, 54, 43, 20, 75, 68, 60, 37, 72, 46, 79, 18, 25, 35, 30, 26, 61, 81, 17, 52, 32, 20, 48, 39, 48, 49, 27, 38, 21, 38, 17, 72, 29, 20, 56, 74, 49, 54, 64, 21, 93, 35, 91, 19, 32, 16, 30, 22, 23, 71, 70, 23, 22, 28, 45, 58, 24, 20, 30, 60, 17, 17, 50, 40, 19, 24, 24, 20, 47, 25, 55, 21, 28, 20, 30, 68, 21, 57, 63, 34, 33, 25, 23, 24, 16, 60, 50, 36, 34, 48, 25, 54, 57, 26, 22, 43, 48, 24, 53, 31, 41, 64, 67, 18, 64, 84, 21, 73, 43, 38, 72, 36, 67, 42, 36, 27, 32, 20, 50, 53, 44, 92, 18, 42, 27, 18, 33, 64, 53, 20, 56, 41, 25, 45, 21, 27, 26, 73, 48, 42, 55, 75, 28, 29, 44, 52, 72, 54, 65, 28, 53, 52, 58, 22, 31, 79, 50, 23, 22, 27, 86, 25, 37, 50, 17, 21, 30, 56, 59, 24, 34, 74, 56, 55, 49, 16, 86, 33, 23, 24, 25, 35, 33, 20, 63, 56, 28, 38, 18, 44, 52, 22, 34, 57, 54, 37, 82, 51, 19, 22, 23, 71, 46, 17, 18, 65, 33, 31, 21, 73, 71, 23, 20, 62, 23, 55, 43, 45, 57, 35, 85, 66, 34, 64, 60, 52, 30, 94, 69, 58, 41, 21, 79, 33, 46, 85, 41, 29, 33, 56, 21, 52, 18, 29, 44, 37, 28, 20, 28, 21, 37, 56, 83, 76, 33, 50, 40, 20, 42, 35, 59, 66, 39, 58, 39, 30, 59, 58, 37, 21, 61, 51, 34, 21, 54, 37, 56, 39, 52, 61, 58, 24, 35, 45, 54, 50, 53, 37, 29, 48, 49, 52, 83, 61, 46, 59, 55, 29, 41, 30, 60, 59, 18, 44, 21, 40, 42, 10, 50, 16, 49, 46, 63, 25, 32, 47, 77, 21, 66, 23, 49, 24, 46, 29, 29, 54, 30, 31, 58, 70, 48, 73, 47, 23, 20, 43, 19, 21, 44, 22, 60, 34, 46, 40, 45, 40, 73, 51, 85, 64, 92, 0, 58, 33, 68, 71, 25, 76, 18, 23, 45, 79, 65, 37, 41, 36, 50, 54, 48, 52, 36, 90, 89, 93, 57, 26, 18, 60, 76, 86, 58, 57, 53, 82, 17, 58, 21, 51, 32, 19, 61, 80, 26, 62, 49, 49, 34, 45, 61, 14, 64, 42, 44, 52, 92, 97, 83, 27, 47, 18, 30, 51, 50, 75, 63, 53, 86, 21, 74, 62, 22, 50, 70, 82, 35, 63, 32, 81, 15, 75, 59, 70, 79, 21, 85, 60, 19, 49, 71, 62, 19, 47, 38, 74, 59, 44, 66, 65, 61, 95, 54, 79, 65, 24, 61, 79, 31, 26, 61, 65, 34, 73, 73, 86, 28, 28, 51, 23, 24, 55, 46, 30, 61, 41, 41, 53, 56, 34, 24, 32, 42, 23, 16, 20, 45, 32, 36, 39, 73, 16, 71, 56, 41, 49, 51, 79, 40, 59, 38, 52, 18, 49, 18, 46, 49, 51, 49, 31, 24, 31, 27, 32, 69, 39, 26, 22, 50, 38, 21, 35, 55, 24, 54, 61, 15, 34, 30, 57, 56, 28, 73, 61, 39, 52, 75, 22, 40, 78, 20, 25, 21, 64, 46, 38, 18, 23, 17, 46, 59, 52, 24, 60, 32, 31, 31, 17, 22, 19, 37, 17, 15, 40, 38, 20, 28, 39, 50, 15, 49, 85, 45, 63, 13, 51, 36, 71, 81, 49, 21, 21, 48, 19, 82, 52, 35, 50, 63, 48, 22, 46, 56, 26, 39, 27, 33, 37, 21, 25, 21, 22, 62, 25, 67, 37, 44, 29, 50, 21, 29, 20, 24, 50, 61, 35, 37, 22, 33, 60, 35, 43, 86, 42, 23, 42, 49, 24, 43, 30, 23, 32, 41, 22, 65, 31, 39, 38, 43, 54, 51, 74, 19, 20, 43, 90, 83, 73, 47, 53, 20, 19, 59, 83, 22, 59, 60, 30, 40, 43, 48, 17, 26, 28, 42, 26, 53, 32, 49, 43, 65, 92, 55, 70, 20, 25, 21, 18, 32, 22, 32, 27, 35, 59, 53, 57, 40, 24, 48, 51, 15, 19, 68, 22, 19, 20, 25, 30, 19, 34, 43, 28, 31, 15, 20, 17, 31, 15, 25, 55, 52, 24, 23, 19, 28, 34, 22, 60, 14, 57, 31, 23, 29, 34, 19, 41, 40, 39, 69, 92, 17, 51, 24, 50, 56, 87, 94, 21, 51, 54, 22, 78, 81, 24, 41, 42, 33, 54, 16, 30, 48, 57, 44, 21, 35, 45, 16, 30, 19, 15, 42, 25, 38, 32, 38, 56, 15, 27, 41, 34, 20, 50, 44, 81, 50, 50, 37, 50, 42, 73, 71, 34, 73, 45, 54, 45, 51, 27, 64, 38, 73, 28, 21, 15, 25, 50, 59, 21, 30, 78, 26, 25, 40, 22, 30, 18, 47, 39, 39, 40, 19, 27, 34, 83, 50, 21, 25, 51, 25, 63, 46, 69, 46, 21, 20, 37, 42, 55, 61, 26, 38, 22, 40, 23, 20, 65, 55, 59, 29, 79, 51, 61, 21, 37, 51, 80, 29, 61, 45, 55, 43, 92, 43, 55, 21, 48, 39, 40, 19, 43, 42, 40, 81, 35, 52, 43, 26, 68, 29, 32, 52, 38, 52, 53, 12, 58, 56, 48, 51, 82, 17, 18, 32, 48, 75, 43, 63, 52, 55, 53, 62, 74, 20, 38, 69, 44, 68, 59, 68, 58, 27, 29, 61, 35, 67, 68, 78, 52, 79, 58, 59, 53, 51, 20, 32, 54, 53, 47, 64, 35, 64, 35, 23, 53, 42, 55, 48, 47, 71, 54, 12, 43, 49, 40, 43, 28, 25, 45, 17, 25, 23, 41, 41, 37, 20, 32, 48, 35, 68, 18, 26, 38, 19, 18, 48, 2, 33, 22, 51, 74, 14, 8, 26, 47, 54, 84, 86, 29, 52, 28, 92, 37, 52, 55, 23, 28, 58, 51, 66, 34, 27, 23, 37, 21, 15, 73, 48, 49, 50, 29, 52, 24, 41, 14, 29, 55, 18, 50, 60, 25, 29, 20, 22, 25, 18, 34, 21, 40, 22, 26, 40, 22, 18, 23, 32, 43, 55, 61, 21, 27, 25, 62, 41, 40, 47, 50, 39, 48, 42, 19, 48, 85, 48, 54, 20, 20, 18, 59, 42, 25, 29, 19, 16, 23, 49, 60, 41, 64, 39, 27, 26, 32, 26, 48, 22, 19, 46, 37, 23, 46, 37, 40, 27, 29, 59, 17, 29, 17, 50, 64, 29, 21, 21, 60, 67, 88, 64, 32, 30, 51, 27, 41, 91, 22, 23, 53, 55, 42, 55, 56, 84, 24, 21, 13, 42, 77, 64, 54, 41, 24, 18, 22, 44, 57, 18, 17, 24, 40, 41, 21, 29, 20, 45, 28, 18, 43, 32, 68, 15, 49, 22, 58, 28, 45, 25, 37, 29, 83, 66, 17, 43, 43, 72, 47, 64, 69, 54, 58, 17, 30, 40, 56, 42, 43, 26, 51, 88, 70, 53, 61, 22, 20, 20, 67, 32, 19, 25, 45, 32, 32, 31, 36, 21, 32, 52, 38, 20, 33, 18, 61, 72, 19, 28, 41, 81, 80, 65, 65, 53, 33, 55, 30, 18, 49, 17, 30, 25, 27, 90, 19, 40, 23, 51, 48, 25, 34, 63, 44, 21, 85, 52, 29, 24, 17, 29, 37, 42, 24, 31, 51, 12, 32, 22, 84, 69, 21, 77, 65, 28, 83, 21, 68, 58, 52, 25, 16, 23, 28, 36, 33, 25, 87, 60, 25, 34, 21, 59, 32, 58, 36, 20, 59, 53, 32, 91, 43, 22, 16, 29, 51, 22, 53, 85, 56, 23, 57, 55, 43, 33, 68, 23, 38, 43, 42, 30, 30, 24, 55, 49, 29, 43, 25, 79, 50, 48, 60, 24, 70, 50, 28, 4, 45, 76, 44, 44, 27, 40, 30, 40, 24, 38, 64, 53, 23, 33, 69, 22, 41, 58, 30, 18, 23, 19, 79, 52, 26, 48, 28, 24, 21, 21, 26, 19, 46, 58, 45, 78, 30, 38, 40, 49, 20, 69, 57, 37, 53, 19, 51, 51, 71, 58, 46, 92, 31, 22, 56, 29, 74, 79, 42, 21, 52, 24, 35, 61, 46, 29, 19, 17, 40, 51, 21, 42, 45, 23, 36, 48, 33, 29, 22, 45, 69, 52, 61, 29, 47, 41, 84, 21, 55, 46, 47, 81, 17, 47, 56, 24, 25, 33, 43, 39, 19, 34, 52, 33, 14, 47, 41, 19, 19, 65, 55, 21, 44, 23, 36, 46, 41, 29, 34, 35, 23, 75, 35, 72, 77, 74, 79, 92, 45, 34, 59, 23, 78, 71, 66, 22, 49, 40, 29, 18, 29, 41, 72, 62, 28, 38, 40, 22, 45, 65, 64, 34, 64, 62, 62, 77, 62, 49, 46, 48, 53, 59, 63, 18, 29, 57, 23, 54, 18, 74, 60, 21, 35, 53, 32, 36, 16, 33, 36, 40, 38, 40, 69, 57, 32, 22, 32, 74, 25, 31, 31, 36, 27, 52, 27, 61, 31, 22, 22, 60, 20, 78, 28, 25, 67, 19, 58, 55, 47, 62, 42, 31, 40, 31, 53, 37, 42, 60, 56, 62, 80, 56, 25, 32, 30, 42, 76, 63, 29, 49, 19, 41, 56, 27, 62, 23, 47, 50, 27, 15, 63, 17, 19, 26, 16, 31, 35, 68, 29, 43, 46, 46, 25, 60, 43, 23, 20, 38, 35, 29, 31, 19, 60, 81, 60, 40, 51, 9, 2, 5, 86, 58, 39, 84, 31, 23, 33, 43, 33, 38, 49, 52, 54, 84, 48, 28, 33, 57, 14, 27, 25, 67, 31, 65, 39, 64, 16, 53, 54, 52, 5, 46, 64, 29, 40, 54, 23, 47, 60, 25, 26, 41, 38, 62, 61, 61, 68, 22, 56, 20, 42, 28, 76, 49, 81, 42, 44, 53, 47, 62, 21, 47, 32, 13, 34, 40, 25, 64, 56, 24, 49, 89, 48, 70, 52, 74, 46, 75, 51, 48, 70, 46, 46, 29, 58, 20, 51, 79, 30, 48, 82, 30, 71, 36, 25, 30, 65, 68, 68, 16, 43, 33, 30, 51, 20, 34, 42, 50, 42, 83, 40, 54, 63, 68, 36, 20, 43, 5, 24, 33, 55, 24, 32, 32, 44, 74, 45, 70, 53, 39, 36, 37, 80, 47, 49, 64, 56, 93, 23, 59, 81, 24, 55, 32, 22, 42, 15, 74, 10, 65, 40, 37, 57, 21, 28, 28, 39, 65, 6, 43, 31, 61, 36, 39, 67, 32, 51, 63, 29, 21, 25, 82, 57, 67, 50, 45, 20, 25, 62, 72, 40, 39, 4, 37, 34, 51, 52, 55, 55, 26, 44, 40, 40, 22, 72, 59, 58, 41, 39, 19, 60, 16, 25, 26, 57, 20, 36, 19, 42, 52, 21, 83, 19, 19, 48, 43, 42, 69, 49, 53, 37, 33, 37, 59, 55, 45, 23, 49, 49, 21, 23, 41, 47, 53, 22, 37, 64, 31, 20, 35, 71, 42, 62, 50, 19, 40, 27, 60, 69, 21, 59, 41, 65, 20, 38, 52, 91, 53, 32, 53, 76, 52, 26, 46, 44, 78, 22, 47, 16, 29, 53, 23, 43, 29, 18, 52, 42, 19, 31, 29, 40, 32, 31, 61, 88, 28, 28, 52, 71, 31, 75, 23, 16, 90, 58, 19, 14, 40, 45, 81, 54, 46, 20, 52, 83, 47, 60, 56, 45, 41, 76, 39, 47, 27, 36, 72, 47, 20, 23, 16, 55, 68, 28, 34, 21, 21, 47, 39, 40, 32, 45, 56, 60, 29, 61, 20, 55, 22, 52, 38, 51, 62, 50, 51, 73, 21, 72, 55, 53, 53, 55, 72, 37, 52, 50, 37, 54, 52, 26, 49, 38, 70, 24, 65, 59, 57, 24, 27, 89, 85, 50, 45, 61, 81, 71, 20, 38, 42, 40, 21, 55, 21, 85, 45, 26, 86, 50, 27, 51, 34, 33, 59, 20, 44, 25, 43, 31, 24, 22, 49, 17, 52, 39, 25, 32, 56, 45, 21, 19, 56, 36, 35, 44, 16, 24, 64, 58, 66, 44, 59, 78, 30, 50, 52, 23, 61, 34, 63, 70, 69, 70, 46, 44, 60, 58, 50, 48, 83, 38, 31, 44, 45, 74, 69, 49, 23, 29, 31, 36, 31, 49, 62, 82, 55, 73, 74, 18, 60, 47, 25, 58, 20, 24, 17, 80, 58, 27, 51, 62, 31, 43, 42, 24, 59, 59, 35, 52, 21, 59, 58, 79, 24, 22, 58, 65, 21, 55, 15, 66, 44, 20, 21, 33, 31, 72, 21, 36, 37, 81, 49, 54, 20, 53, 24, 23, 35, 18, 29, 58, 34, 51, 38, 48, 60, 40, 63, 59, 47, 33, 25, 14, 67, 44, 37, 31, 39, 57, 47, 19, 61, 39, 25, 63, 22, 61, 40, 68, 65, 84, 67, 58, 28, 36, 26, 34, 33, 83, 67, 31, 20, 31, 50, 28, 33, 43, 15, 22, 79, 43, 36, 30, 20, 51, 57, 41, 34, 31, 31, 31, 61, 30, 38, 53, 18, 64, 59, 77, 62, 27, 20, 24, 32, 28, 18, 37, 80, 51, 53, 69, 71, 43, 23, 59, 48, 49, 44, 57, 29, 43, 44, 86, 82, 77, 83, 44, 22, 59, 24, 53, 21, 80, 38, 13, 48, 39, 18, 79, 29, 48, 21, 26, 53, 54, 48, 38, 40, 66, 60, 16, 57, 25, 26, 24, 36, 38, 33, 45, 82, 53, 70, 32, 22, 58, 29, 29, 50, 58, 29, 31, 69, 30, 78, 27, 55, 38, 39, 89, 22, 36, 71, 62, 18, 52, 23, 30, 29, 70, 26, 57, 17, 69, 43, 32, 64, 16, 24, 49, 18, 44, 53, 25, 19, 46, 52, 44, 63, 30, 26, 34, 34, 51, 36, 60, 19, 23, 80, 56, 65, 18, 89, 50, 21, 68, 34, 24, 46, 69, 32, 27, 53, 64, 65, 29, 26, 26, 72, 46, 51, 52, 30, 54, 66, 90, 22, 36, 76, 41, 59, 51, 22, 46, 42, 28, 24, 35, 22, 29, 27, 63, 17, 63, 39, 55, 16, 88, 84, 32, 75, 24, 38, 28, 30, 34, 43, 57, 53, 58, 51, 37, 52, 61, 39, 47, 38, 28, 95, 24, 25, 30, 60, 18, 57, 44, 38, 60, 71, 61, 32, 35, 48, 24, 34, 62, 25, 24, 23, 38, 29, 23, 39, 45, 77, 19, 92, 65, 45, 83, 58, 61, 19, 61, 32, 34, 21, 36, 19, 48, 75, 50, 65, 69, 20, 27, 53, 33, 19, 16, 67, 70, 49, 53, 52, 38, 33, 13, 12, 19, 35, 30, 70, 56, 92, 34, 66, 50, 34, 54, 32, 54, 24, 29, 27, 70, 31, 23, 48, 19, 27, 24, 83, 50, 62, 50, 51, 65, 42, 45, 24, 61, 60, 40, 20, 72, 64, 39, 43, 50, 55, 26, 35, 24, 49, 25, 24, 21, 17, 58, 64, 79, 70, 74, 69, 55, 18, 53, 22, 79, 74, 46, 62, 42, 35, 21, 21, 17, 24, 52, 73, 34, 30, 91, 35, 66, 74, 40, 58, 59, 66, 87, 21, 33, 60, 21, 59, 47, 19, 25, 33, 49, 22, 46, 31, 35, 28, 30, 31, 83, 69, 68, 19, 52, 18, 48, 29, 59, 25, 22, 56, 85, 32, 70, 60, 57, 53, 38, 48, 48, 53, 16, 19, 86, 18, 50, 21, 21, 45, 56, 17, 93, 42, 17, 49, 70, 38, 59, 66, 68, 59, 22, 65, 53, 44, 15, 66, 21, 57, 34, 23, 74, 58, 80, 49, 29, 44, 48, 33, 34, 50, 58, 52, 51, 22, 64, 61, 63, 27, 27, 51, 83, 18, 25, 73, 84, 61, 23, 47, 25, 69, 31, 44, 22, 48, 48, 73, 72, 37, 22, 58, 54, 33, 52, 43, 46, 56, 61, 25, 20, 23, 66, 49, 56, 89, 26, 48, 60, 21, 27, 37, 16, 34, 38, 22, 46, 32, 75, 59, 78, 75, 44, 20, 30, 63, 46, 41, 92, 22, 34, 20, 24, 21, 23, 20, 45, 34, 19, 22, 21, 35, 31, 15, 18, 37, 32, 45, 35, 21, 64, 20, 75, 21, 50, 30, 22, 61, 36, 30, 63, 52, 63, 50, 35, 54, 35, 17, 36, 34, 23, 22, 62, 35, 37, 30, 31, 55, 72, 76, 37, 53, 84, 65, 77, 39, 42, 40, 76, 60, 33, 45, 44, 52, 58, 19, 31, 54, 43, 20, 64, 40, 20, 32, 24, 31, 54, 32, 36, 79, 34, 29, 33, 35, 40, 67, 21, 66, 36, 22, 49, 42, 35, 57, 48, 43, 3, 59, 28, 24, 34, 13, 44, 66, 35, 44, 45, 38, 12, 21, 44, 28, 52, 58, 63, 62, 56, 55, 82, 73, 22, 49, 71, 31, 40, 77, 69, 58, 84, 31, 78, 49, 24, 48, 49, 68, 92, 9, 6, 30, 40, 46, 20, 80, 79, 31, 39, 19, 42, 46, 22, 44, 64, 41, 74, 27, 44, 56, 42, 51, 13, 35, 47, 36, 46, 39, 48, 78, 65, 53, 30, 80, 62, 28, 66, 52, 35, 42, 27, 35, 21, 63, 40, 60, 47, 64, 73, 22, 18, 70, 44, 54, 69, 56, 21, 37, 54, 54, 45, 56, 45, 45, 62, 64, 23, 33, 92, 81, 56, 30, 51, 37, 78, 81, 48, 64, 36, 54, 21, 71, 34, 47, 13, 22, 83, 51, 53, 72, 21, 17, 39, 46, 66, 86, 60, 69, 27, 91, 27, 63, 22, 32, 37, 48, 30, 32, 66, 45, 53, 18, 20, 19, 77, 77, 64, 23, 59, 42, 49, 19, 84, 34, 85, 38, 36, 14, 27, 76, 40, 19, 29, 56, 55, 25, 18, 28, 24, 38, 72, 19, 73, 71, 20, 80, 42, 23, 65, 30, 46, 88, 18, 28, 40, 27, 34, 59, 50, 25, 23, 24, 60, 50, 25, 51, 57, 84, 32, 30, 15, 16, 60, 56, 78, 42, 53, 65, 75, 72, 11, 66, 26, 17, 25, 17, 19, 19, 29, 39, 24, 23, 52, 19, 52, 29, 81, 21, 34, 58, 89, 28, 51, 65, 21, 32, 39, 19, 51, 98, 65, 27, 33, 41, 31, 52, 34, 19, 35, 21, 27, 18, 60, 16, 18, 27, 77, 60, 56, 24, 18, 43, 39, 33, 43, 53, 27, 28, 37, 28, 65, 54, 38, 42, 55, 21, 31, 33, 55, 29, 36, 47, 52, 47, 89, 51, 25, 47, 59, 54, 26, 22, 18, 55, 48, 21, 56, 56, 63, 36, 48, 70, 62, 44, 73, 47, 65, 45, 30, 60, 22, 58, 35, 72, 46, 67, 38, 46, 35, 56, 53, 52, 71, 64, 61, 54, 27, 38, 21, 55, 29, 38, 42, 19, 23, 16, 46, 25, 65, 41, 35, 45, 23, 21, 66, 55, 30, 57, 70, 25, 72, 82, 49, 33, 27, 81, 18, 63, 20, 33, 67, 81, 57, 38, 76, 24, 48, 36, 24, 18, 21, 21, 21, 89, 29, 27, 50, 28, 28, 89, 38, 79, 70, 61, 34, 41, 58, 29, 48, 41, 47, 79, 69, 64, 89, 18, 21, 17, 27, 34, 71, 36, 88, 52, 55, 85, 44, 58, 28, 54, 41, 29, 56, 64, 54, 51, 51, 27, 33, 27, 19, 47, 83, 40, 64, 95, 34, 77, 49, 65, 53, 50, 20, 57, 44, 48, 21, 21, 61, 43, 72, 67, 71, 50, 47, 18, 36, 33, 40, 27, 38, 43, 46, 43, 71, 30, 22, 37, 23, 49, 25, 22, 34, 50, 47, 83, 29, 32, 33, 27, 25, 29, 68, 33, 37, 27, 57, 50, 21, 61, 40, 54, 18, 45, 86, 15, 38, 46, 15, 16, 48, 30, 16, 79, 30, 69, 49, 78, 76, 64, 49, 56, 40, 72, 59, 71, 49, 16, 33, 19, 27, 50, 23, 49, 22, 27, 22, 66, 26, 61, 57, 24, 31, 26, 45, 50, 53, 19, 76, 27, 25, 23, 17, 42, 69, 67, 16, 16, 60, 16, 26, 17, 76, 57, 33, 65, 53, 17, 58, 64, 59, 76, 16, 20, 43, 51, 60, 67, 65, 29, 56, 55, 44, 66, 23, 32, 61, 21, 33, 15, 37, 50, 51, 78, 54, 28, 37, 39, 27, 31, 23, 70, 49, 46, 65, 22, 26, 18, 22, 68, 30, 62, 83, 25, 74, 50, 40, 45, 59, 46, 68, 47, 42, 55, 42, 22, 52, 51, 30, 53, 34, 34, 23, 52, 62, 49, 57, 48, 40, 74, 74, 88, 67, 43, 58, 17, 59, 32, 30, 58, 27, 51, 41, 41, 24, 55, 68, 23, 30, 33, 27, 35, 42, 45, 22, 33, 47, 37, 44, 15, 28, 61, 19, 74, 28, 16, 39, 39, 74, 54, 22, 46, 27, 62, 35, 65, 32, 21, 66, 25, 20, 49, 63, 23, 83, 40, 54, 54, 38, 48, 47, 23, 38, 22, 39, 23, 44, 19, 30, 20, 88, 70, 30, 61, 66, 24, 44, 45, 41, 60, 61, 82, 24, 29, 69, 47, 73, 41, 39, 32, 78, 58, 41, 60, 18, 43, 36, 41, 87, 90, 13, 22, 87, 47, 50, 23, 68, 47, 21, 40, 34, 49, 90, 44, 50, 13, 16, 41, 23, 43, 62, 27, 62, 30, 16, 40, 23, 22, 89, 52, 52, 83, 45, 36, 18, 22, 20, 71, 24, 27, 19, 54, 21, 18, 19, 56, 35, 60, 40, 38, 71, 23, 66, 19, 19, 27, 11, 55, 25, 46, 17, 53, 35, 49, 49, 80, 21, 39, 39, 67, 36, 47, 28, 15, 31, 25, 19, 34, 76, 51, 20, 52, 50, 29, 80, 35, 44, 82, 34, 53, 39, 50, 31, 75, 76, 45, 31, 20, 44, 22, 80, 41, 46, 43, 24, 77, 32, 48, 34, 51, 64, 34, 63, 46, 41, 68, 60, 43, 37, 22, 36, 19, 20, 19, 37, 53, 64, 16, 23, 31, 38, 56, 58, 16, 30, 43, 48, 23, 25, 34, 20, 50, 54, 24, 43, 26, 56, 46, 54, 61, 70, 82, 22, 94, 15, 77, 50, 40, 19, 44, 86, 33, 69, 51, 38, 76, 44, 46, 35, 93, 26, 69, 57, 62, 62, 51, 52, 56, 85, 76, 59, 17, 70, 77, 48, 55, 38, 55, 40, 73, 50, 38, 34, 47, 55, 59, 39, 47, 77, 79, 49, 58, 38, 18, 46, 55, 40, 38, 41, 26, 51, 28, 63, 18, 53, 58, 31, 34, 25, 53, 2, 35, 72, 81, 40, 15, 47, 47, 63, 59, 19, 38, 39, 64, 78, 50, 16, 35, 69, 28, 21, 19, 47, 25, 32, 52, 62, 49, 22, 30, 42, 40, 52, 68, 22, 64, 37, 83, 28, 20, 29, 26, 32, 40, 56, 32, 33, 76, 83, 62, 31, 31, 27, 52, 29, 17, 59, 29, 21, 18, 17, 70, 29, 56, 37, 19, 28, 32, 42, 41, 25, 50, 18, 29, 34, 20, 21, 21, 25, 22, 28, 86, 26, 46, 24, 50, 60, 23, 21, 22, 25, 25, 57, 52, 75, 53, 62, 88, 21, 56, 31, 70, 28, 48, 37, 55, 40, 29, 52, 21, 20, 58, 28, 30, 51, 28, 55, 35, 55, 36, 24, 20, 24, 29, 57, 28, 28, 20, 48, 47, 51, 21, 23, 16, 19, 19, 53, 35, 37, 87, 25, 30, 51, 66, 48, 50, 53, 21, 56, 68, 25, 52, 90, 32, 19, 25, 40, 55, 85, 85, 21, 66, 67, 59, 24, 35, 31, 57, 32, 62, 66, 36, 50, 20, 24, 71, 61, 24, 32, 19, 40, 23, 32, 44, 28, 23, 4, 34, 20, 42, 42, 40, 43, 57, 70, 42, 42, 19, 61, 62, 23, 23, 37, 33, 78, 38, 59, 18, 48, 46, 53, 31, 77, 32, 68, 85, 60, 21, 38, 62, 75, 60, 81, 60, 74, 49, 31, 94, 66, 58, 83, 52, 53, 64, 78, 22, 54, 50, 31, 76, 64, 45, 18, 19, 69, 47, 52, 22, 53, 32, 59, 28, 15, 49, 62, 59, 32, 23, 54, 47, 52, 48, 72, 41, 61, 55, 27, 69, 54, 29, 32, 47, 81, 57, 61, 59, 61, 73, 31, 36, 33, 75, 44, 33, 52, 56, 82, 79, 15, 72, 63, 51, 42, 75, 50, 50, 20, 73, 48, 55, 21, 25, 16, 38, 41, 75, 48, 86, 57, 59, 23, 19, 60, 40, 71, 62, 48, 21, 68, 33, 21, 24, 21, 26, 53, 20, 31, 26, 62, 25, 17, 28, 23, 23, 22, 22, 19, 16, 52, 61, 23, 23, 25, 60, 41, 49, 31, 26, 46, 66, 28, 61, 27, 37, 51, 72, 50, 26, 46, 74, 46, 23, 25, 20, 26, 22, 19, 38, 68, 32, 12, 24, 44, 42, 16, 36, 33, 66, 30, 29, 65, 6, 31, 46, 26, 18, 73, 49, 46, 36, 15, 14, 50, 53, 60, 53, 24, 52, 53, 80, 52, 58, 31, 51, 22, 21, 53, 31, 23, 33, 71, 40, 92, 26, 29, 77, 77, 54, 27, 65, 24, 43, 37, 65, 21, 16, 52, 16, 33, 47, 27, 32, 16, 25, 33, 28, 42, 9, 33, 15, 54, 41, 58, 55, 69, 64, 1, 37, 72, 64, 74, 87, 18, 67, 45, 15, 46, 71, 18, 18, 56, 31, 85, 35, 15, 67, 47, 19, 16, 20, 48, 22, 76, 62, 19, 61, 56, 49, 42, 10, 68, 21, 26, 40, 90, 48, 65, 40, 66, 38, 26, 24, 57, 61, 56, 52, 28, 51, 19, 63, 2, 31, 22, 42, 60, 5, 26, 51, 42, 64, 18, 31, 42, 24, 74, 39, 55, 49, 47, 35, 36, 79, 58, 50, 67, 69, 84, 39, 31, 66, 54, 69, 41, 25, 13, 51, 51, 85, 27, 34, 56, 32, 14, 81, 32, 69, 35, 35, 22, 49, 27, 64, 37, 39, 48, 51, 85, 46, 75, 32, 73, 30, 44, 44, 24, 40, 57, 82, 29, 74, 65, 35, 64, 27, 28, 49, 33, 60, 68, 72, 89, 30, 17, 35, 89, 35, 35, 49, 26, 70, 86, 28, 76, 60, 49, 31, 39, 34, 40, 89, 53, 55, 14, 58, 63, 29, 22, 18, 70, 78, 61, 67, 24, 23, 70, 23, 33, 20, 52, 44, 66, 49, 65, 47, 14, 42, 58, 71, 33, 36, 69, 57, 23, 25, 27, 72, 68, 56, 23, 25, 28, 46, 75, 59, 81, 51, 43, 26, 48, 41, 56, 28, 44, 22, 23, 34, 20, 22, 44, 43, 34, 26, 53, 42, 22, 79, 37, 34, 47, 22, 45, 66, 38, 79, 40, 48, 23, 19, 44, 36, 70, 28, 35, 52, 94, 51, 74, 11, 88, 88, 57, 36, 24, 57, 39, 72, 37, 25, 22, 22, 29, 27, 14, 28, 57, 21, 51, 82, 34, 31, 15, 27, 26, 36, 62, 24, 30, 70, 26, 54, 24, 25, 74, 35, 69, 45, 21, 32, 59, 5, 91, 88, 51, 49, 71, 41, 58, 61, 42, 46, 15, 18, 57, 36, 91, 35, 27, 65, 19, 57, 26, 54, 43, 22, 43, 20, 73, 24, 51, 69, 34, 21, 38, 35, 23, 55, 48, 33, 39, 67, 37, 21, 28, 85, 52, 47, 66, 52, 44, 62, 21, 42, 19, 88, 17, 75, 55, 53, 34, 68, 30, 19, 76, 58, 50, 14, 32, 69, 58, 58, 44, 33, 27, 52, 34, 73, 34, 48, 36, 81, 35, 61, 88, 14, 67, 50, 88, 30, 82, 57, 42, 43, 40, 46, 59, 32, 13, 53, 54, 60, 73, 29, 44, 87, 54, 59, 60, 85, 61, 61, 56, 19, 62, 20, 83, 70, 56, 20, 79, 28, 26, 35, 24, 19, 22, 23, 66, 27, 38, 44, 35, 21, 49, 35, 35, 74, 38, 53, 24, 32, 59, 45, 61, 13, 48, 47, 79, 56, 50, 47, 62, 25, 18, 23, 43, 61, 45, 31, 48, 49, 56, 38, 22, 40, 49, 17, 65, 39, 57, 51, 56, 60, 64, 55, 27, 38, 63, 41, 27, 86, 24, 37, 28, 36, 46, 36, 25, 32, 26, 80, 24, 23, 49, 33, 19, 19, 26, 49, 22, 50, 49, 49, 27, 41, 35, 23, 57, 51, 35, 72, 35, 28, 73, 24, 21, 24, 24, 40, 41, 52, 26, 53, 24, 24, 28, 37, 38, 37, 32, 49, 23, 52, 22, 37, 38, 25, 16, 59, 32, 27, 43, 30, 26, 29, 64, 48, 77, 58, 45, 27, 25, 28, 60, 58, 23, 52, 21, 15, 46, 24, 44, 56, 81, 38, 63, 78, 51, 20, 53, 53, 17, 45, 51, 19, 33, 70, 24, 78, 46, 31, 27, 47, 63, 22, 59, 60, 48, 51, 49, 58, 69, 18, 59, 68, 62, 24, 49, 69, 21, 36, 71, 45, 69, 54, 32, 46, 47, 22, 22, 85, 27, 24, 42, 21, 64, 49, 49, 41, 15, 82, 49, 26, 50, 21, 57, 61, 38, 38, 51, 39, 21, 80, 78, 39, 46, 50, 64, 59, 40, 13, 43, 81, 91, 24, 19, 80, 32, 19, 19, 45, 56, 22, 45, 40, 53, 28, 25, 45, 57, 51, 35, 54, 49, 45, 47, 26, 64, 57, 19, 53, 93, 71, 25, 56, 28, 47, 63, 26, 68, 15, 32, 26, 30, 33, 35, 16, 20, 21, 29, 23, 31, 39, 28, 73, 18, 19, 84, 29, 86, 28, 57, 82, 30, 71, 66, 51, 75, 53, 25, 14, 39, 75, 35, 35, 71, 79, 36, 54, 46, 46, 53, 51, 36, 40, 90, 29, 22, 38, 39, 44, 62, 79, 42, 49, 81, 33, 48, 57, 56, 38, 30, 63, 54, 20, 12, 61, 50, 46, 24, 70, 38, 31, 60, 38, 16, 18, 22, 23, 73, 25, 50, 33, 80, 23, 20, 23, 43, 18, 61, 80, 34, 62, 20, 26, 16, 35, 34, 16, 53, 75, 26, 32, 39, 61, 66, 51, 31, 23, 28, 27, 67, 78, 24, 32, 32, 56, 40, 68, 88, 28, 24, 49, 4, 26, 47, 9, 43, 55, 33, 48, 22, 35, 25, 42, 20, 88, 33, 46, 70, 40, 33, 23, 41, 86, 25, 41, 57, 25, 30, 24, 24, 31, 30, 21, 15, 24, 56, 55, 34, 23, 64, 61, 15, 78, 19, 31, 24, 37, 35, 52, 56, 20, 70, 66, 79, 38, 87, 22, 20, 29, 48, 24, 26, 20, 31, 55, 32, 69, 24, 26, 30, 39, 42, 49, 37, 45, 20, 32, 73, 92, 89, 78, 55, 54, 24, 44, 51, 19, 45, 45, 54, 32, 50, 38, 49, 7, 9, 41, 62, 21, 49, 47, 33, 31, 64, 24, 30, 34, 18, 27, 45, 35, 51, 26, 83, 75, 52, 28, 15, 18, 51, 21, 78, 42, 33, 91, 19, 28, 43, 34, 18, 81, 27, 7, 13, 32, 32, 71, 55, 32, 5, 34, 23, 33, 7, 45, 19, 62, 17, 46, 56, 44, 27, 14, 48, 48, 50, 19, 44, 19, 37, 34, 32, 52, 24, 24, 27, 83, 77, 23, 30, 28, 61, 60, 26, 71, 49, 42, 32, 40, 47, 71, 22, 19, 32, 51, 20, 85, 72, 54, 38, 39, 51, 45, 39, 46, 34, 91, 20, 70, 36, 43, 61, 67, 55, 69, 48, 64, 46, 31, 20, 24, 45, 22, 19, 70, 32, 69, 67, 41, 61, 48, 75, 36, 41, 37, 64, 26, 83, 13, 23, 58, 75, 20, 22, 53, 62, 53, 30, 23, 66, 64, 40, 83, 40, 25, 52, 61, 25, 39, 46, 58, 56, 79, 51, 34, 84, 48, 42, 32, 66, 62, 24, 47, 23, 81, 68, 48, 32, 54, 57, 68, 82, 25, 33, 40, 36, 96, 43, 39, 32, 15, 60, 54, 52, 26, 60, 53, 46, 52, 21, 57, 26, 52, 27, 57, 22, 37, 70, 74, 23, 21, 40, 67, 17, 32, 56, 42, 14, 70, 20, 54, 34, 20, 74, 61, 58, 60, 21, 19, 19, 60, 50, 45, 70, 79, 89, 24, 49, 34, 24, 49, 46, 56, 28, 27, 48, 44, 20, 25, 45, 37, 57, 42, 61, 60, 61, 41, 58, 21, 16, 15, 18, 22, 20, 42, 17, 16, 34, 50, 33, 30, 21, 33, 36, 17, 23, 81, 23, 34, 36, 22, 45, 25, 41, 25]\n"
     ]
    }
   ],
   "source": [
    "# steps\n",
    "# extract ages according to months, append to list\n",
    "# use the avg() function... i think. or just sum()/len(var) to get averages\n",
    "\n",
    "month_ages = {}\n",
    "for row in data:\n",
    "    try: \n",
    "        if row[2] in month_ages:\n",
    "                month_ages[row[2]].append(int(row[6]))\n",
    "        else:\n",
    "            month_ages[row[2]] = [int(row[6])]\n",
    "    except ValueError:\n",
    "        pass\n",
    "\n",
    "print(month_ages['01'])"
   ]
  },
  {
   "cell_type": "code",
   "execution_count": 27,
   "metadata": {},
   "outputs": [
    {
     "name": "stdout",
     "output_type": "stream",
     "text": [
      "8270 5220\n"
     ]
    }
   ],
   "source": [
    "# initial attempt successful with addition of try/except block to deal with cases where age = NA\n",
    "# now need to narrow down results so that only Suicides are counted\n",
    "suicide_month_ages = {}\n",
    "for row in data:\n",
    "    try: \n",
    "        if row[2] in suicide_month_ages and row[3] == 'Suicide':\n",
    "                suicide_month_ages[row[2]].append(int(row[6]))\n",
    "        elif row[3] == 'Suicide':\n",
    "            suicide_month_ages[row[2]] = [int(row[6])]\n",
    "    except ValueError:\n",
    "        pass\n",
    "\n",
    "print(len(month_ages['01']), len(suicide_month_ages['01']))"
   ]
  },
  {
   "cell_type": "code",
   "execution_count": 28,
   "metadata": {},
   "outputs": [
    {
     "name": "stdout",
     "output_type": "stream",
     "text": [
      "[5220, 4732, 5309, 5438, 5506, 5367, 5514, 5421, 5343, 5256, 5086, 4983]\n"
     ]
    }
   ],
   "source": [
    "print(suicide_y)"
   ]
  },
  {
   "cell_type": "code",
   "execution_count": 30,
   "metadata": {},
   "outputs": [],
   "source": [
    "#confirm that total number of suicides and number of ages in suicide_month_ages are the same\n",
    "\n",
    "#convert to averages\n",
    "\n",
    "for month in suicide_month_ages:\n",
    "    suicide_month_ages[month] = sum(suicide_month_ages[month]) / len(suicide_month_ages[month])"
   ]
  },
  {
   "cell_type": "code",
   "execution_count": 31,
   "metadata": {},
   "outputs": [
    {
     "data": {
      "text/plain": [
       "{'01': 49.303256704980846,\n",
       " '02': 50.324878461213274,\n",
       " '03': 50.16763985684686,\n",
       " '04': 50.00128723795513,\n",
       " '05': 50.579004722121326,\n",
       " '06': 51.197875908328676,\n",
       " '07': 50.95992020311933,\n",
       " '08': 50.27749077490775,\n",
       " '09': 50.72187909414187,\n",
       " '10': 50.306565176022836,\n",
       " '11': 49.52006294256491,\n",
       " '12': 50.281268821521785}"
      ]
     },
     "execution_count": 31,
     "metadata": {},
     "output_type": "execute_result"
    }
   ],
   "source": [
    "suicide_month_ages"
   ]
  },
  {
   "cell_type": "markdown",
   "metadata": {},
   "source": [
    "## Intent Finale\n",
    "\n",
    "I'm not even going to graph that. Average age across all months is solidly 50. I'm putting this section to bed. \n",
    "\n",
    "## Up Next\n",
    "\n",
    "I'm adding in an additional problem that I did not originally plan to investigate, but that Dataquest suggested. It looks really interesting:\n",
    "\n",
    "- Is there any correlation between education level and gun deaths?\n",
    "\n",
    "Hypothesis:\n",
    "\n",
    "- People with lower levels of education will be more susceptible to gun violence, including suicide and homicide.\n",
    "\n",
    "I'm making this hypothesis based on the following: I believe people of lower education levels are more likely to own a gun and/or live in neighborhoods where gun violence is more common. Additionally, people with lower levels of education are likely to make less money and have fewer job opportunities making them susceptible to economic shocks. This can cause depression and, for some, drive someone to commit suicide.\n",
    "\n",
    "#### Data Review\n",
    "\n",
    "- `education`: education status of victim, can be one of the following (strings), index 10\n",
    "    - `1`: Less than high school\n",
    "    - `2`: Graduated from high school\n",
    "    - `3`: Some college\n",
    "    - `4`: At least graduated from college\n",
    "    - `5`: Not available\n",
    "\n",
    "#### Next steps\n",
    "\n",
    "- Tally total occurrences across the three years where `intent` = `Suicide`; `education` values will be keys in dict\n",
    "- Tally total occurrences across the three years where `intent` = `Homicide`; `education` values will be keys in dict\n",
    "- Display data in bar graphs \n",
    "- Use Markdown cell to decipher"
   ]
  },
  {
   "cell_type": "code",
   "execution_count": 32,
   "metadata": {},
   "outputs": [
    {
     "name": "stdout",
     "output_type": "stream",
     "text": [
      "{'2': 15649, '3': 5640, '5': 455, '1': 11839, '4': 1559, 'NA': 34}\n",
      "{'4': 11147, '3': 15533, '2': 26321, '1': 9292, '5': 876, 'NA': 6}\n"
     ]
    }
   ],
   "source": [
    "#making a dictionaries\n",
    "homicide_per_edu = {}\n",
    "suicide_per_edu = {}\n",
    "\n",
    "for row in data: \n",
    "    if row[3] == 'Homicide':\n",
    "        if row[10] in homicide_per_edu:  \n",
    "            homicide_per_edu[row[10]] += 1\n",
    "        else: \n",
    "            homicide_per_edu[row[10]] = 1\n",
    "    elif row[3] == 'Suicide':\n",
    "        if row[10] in suicide_per_edu:  \n",
    "            suicide_per_edu[row[10]] += 1\n",
    "        else: \n",
    "            suicide_per_edu[row[10]] = 1\n",
    "\n",
    "print(homicide_per_edu)\n",
    "print(suicide_per_edu)"
   ]
  },
  {
   "cell_type": "code",
   "execution_count": 44,
   "metadata": {},
   "outputs": [],
   "source": [
    "# going to add NA to '5' which stands for not available... \n",
    "# creating lists for plotting\n",
    "# education levels will be the y values this time\n",
    "\n",
    "#pylab seems to alphabetize things when i want them in this order. So i'm adding in numbers\n",
    "homicide_y = [11839, 15649, 5640, 1559, 489]\n",
    "suicide_y = [9292, 26321, 15533, 11147, 882] \n",
    "x_legend = ['Less than HS', 'Graduated HS or equivalent', 'Some College', 'At least Graduated College', 'N/A']\n",
    "\n",
    "# little worried about the graphing scale needed to plot all of these numbers. may have to jettison NA"
   ]
  },
  {
   "cell_type": "code",
   "execution_count": 40,
   "metadata": {},
   "outputs": [],
   "source": [
    "import matplotlib.pyplot as plt"
   ]
  },
  {
   "cell_type": "code",
   "execution_count": 47,
   "metadata": {},
   "outputs": [
    {
     "data": {
      "text/plain": [
       "<matplotlib.legend.Legend at 0x12364a358>"
      ]
     },
     "execution_count": 47,
     "metadata": {},
     "output_type": "execute_result"
    },
    {
     "data": {
      "image/png": "[encoded data removed]",
      "text/plain": [
       "<matplotlib.figure.Figure at 0x1235ff0f0>"
      ]
     },
     "metadata": {},
     "output_type": "display_data"
    }
   ],
   "source": [
    "plt.figure('homicide by edu')\n",
    "plt.clf()\n",
    "plt.title(\"Total Gun-related Homicides by Education Level of Victim, 2012-2014\")\n",
    "plt.xlabel('Education')\n",
    "plt.ylabel('Total Deaths')\n",
    "plt.bar(1, 11839, label='Less than HS') #doing it this way to create education level legend\n",
    "plt.bar(2, 15649, label='Graduated HS or equivalent')\n",
    "plt.bar(3, 5640, label='Some College')\n",
    "plt.bar(4, 1559, label='At least Graduated College')\n",
    "plt.bar(5, 489, label='N/A')\n",
    "\n",
    "plt.legend()"
   ]
  },
  {
   "cell_type": "code",
   "execution_count": 46,
   "metadata": {},
   "outputs": [
    {
     "data": {
      "text/plain": [
       "<matplotlib.legend.Legend at 0x1236149b0>"
      ]
     },
     "execution_count": 46,
     "metadata": {},
     "output_type": "execute_result"
    },
    {
     "data": {
      "image/png": "[encoded data removed]",
      "text/plain": [
       "<matplotlib.figure.Figure at 0x123443c88>"
      ]
     },
     "metadata": {},
     "output_type": "display_data"
    }
   ],
   "source": [
    "plt.figure('suicide by edu')\n",
    "plt.clf()\n",
    "plt.title(\"Total Gun-related Suicides by Education Level of Victim, 2012-2014\")\n",
    "plt.xlabel('Education')\n",
    "plt.ylabel('Total Deaths')\n",
    "plt.bar(1, 9292, label='Less than HS') #doing it this way to create education level legend\n",
    "plt.bar(2, 26321, label='Graduated HS or equivalent')\n",
    "plt.bar(3, 15533, label='Some College')\n",
    "plt.bar(4, 11147, label='At least Graduated College')\n",
    "plt.bar(5, 882, label='N/A')\n",
    "plt.legend()"
   ]
  },
  {
   "cell_type": "markdown",
   "metadata": {},
   "source": [
    "## Deaths by Education Level Roundup\n",
    "\n",
    "Overall:\n",
    "\n",
    "- Both hypotheses were proven correct, at least in the case of most deaths. The majority of victims recorded as `Homicide` and `Suicide` fell into category `2` meaning they had graduated high school, but not attended college. I would consider this a lower education level, although clearly not the lowest. \n",
    "- `Homicide`\n",
    "    - The number of victims that fell into category `1`, less than high school education, and category `2` were significantly higher higher than categories `3` - `5`. \n",
    "    - My hypothesis regarding homicides is supported by this finding.\n",
    "- `Suicide` \n",
    "    - The majority of victims again fell into category `2`.\n",
    "    - Categories `3` (Some college) and `4` (At least gradated college) contain the next highest category of victims in descending order. In fact, categories `3` and `4` combined would be greater than the the total of victims in category `2` by around 300+ persons.\n",
    "    - Category `1` (less than high school) actually contained the second smallest total gun-related suicides behind category `5` which was N/A.\n",
    "    - In summation, there is not as strong a correlation between gun-related suicides and lower education levels as I originally thought. It would seem that ignorance is truly bliss.\n",
    "    \n",
    "\n",
    "## Next Up\n",
    "\n",
    "The final investigation I'm making with this data: \n",
    "\n",
    "- Investigating instances of a gun death where a police officer was involved?\n",
    "    - How was the `intent` classified when a police was involved with a gun-related death?\n",
    "    - Any patterns present when taking into account race of victim?\n",
    "\n",
    "\n",
    "#### Data Structure\n",
    "\n",
    "- `intent`: intent of perp, (`Suicide`, `Accidental`, `NA`, `Homicide`, `Undetermined`), index 3\n",
    "- `police`: whether a police officer was involved with the shooting, either `0` (false) or `1` (true), index 4\n",
    "- `race`: race of victim, (`Asian/Pacific Islander`, `Native American/Native Alaskan`, `Black`, `Hispanic`, `White`), index 7\n",
    "\n",
    "#### Next Steps\n",
    "\n",
    "- Total all occurences where `police` is `1` (true)\n",
    "- Create dictionary; where `police` is `1` (true), tally up occurrences of death by `intent` (keys)\n",
    "- Create dictionary; where `police` is `1` (true), tally up occurrences of death by `race` (keys)\n",
    "- Investigate findings, create more dictionaries as needed (e.g. combining `race` and `intent` to see if there is any difference in how `intent` was recorded by `race`)\n",
    "- Markdown cell to conclude."
   ]
  },
  {
   "cell_type": "code",
   "execution_count": 49,
   "metadata": {},
   "outputs": [
    {
     "name": "stdout",
     "output_type": "stream",
     "text": [
      "{'0': 99396, '1': 1402}\n"
     ]
    }
   ],
   "source": [
    "police_inv_totals = tally_occurrences(data, 4)\n",
    "print(police_inv_totals)"
   ]
  },
  {
   "cell_type": "code",
   "execution_count": 51,
   "metadata": {},
   "outputs": [
    {
     "name": "stdout",
     "output_type": "stream",
     "text": [
      "{'Homicide': 1402}\n"
     ]
    }
   ],
   "source": [
    "police_true_intent = {}\n",
    "for row in data: \n",
    "    if row[4] == '1':\n",
    "        if row[3] in police_true_intent:  \n",
    "            police_true_intent[row[3]] += 1\n",
    "        else:\n",
    "            police_true_intent[row[3]] = 1\n",
    "\n",
    "print(police_true_intent)"
   ]
  },
  {
   "cell_type": "code",
   "execution_count": 53,
   "metadata": {},
   "outputs": [
    {
     "name": "stdout",
     "output_type": "stream",
     "text": [
      "{'White': 709, 'Native American/Native Alaskan': 25, 'Black': 356, 'Hispanic': 282, 'Asian/Pacific Islander': 30}\n"
     ]
    }
   ],
   "source": [
    "# separating race out from intent to make sure both are populating\n",
    "police_true_race = {}\n",
    "for row in data:\n",
    "    if row[4] == '1':\n",
    "        if row[7] in police_true_race:\n",
    "            police_true_race[row[7]] += 1\n",
    "        else: \n",
    "            police_true_race[row[7]] = 1\n",
    "\n",
    "print(police_true_race)"
   ]
  },
  {
   "cell_type": "code",
   "execution_count": 55,
   "metadata": {},
   "outputs": [
    {
     "name": "stdout",
     "output_type": "stream",
     "text": [
      "{'White': 3.593167196769478, 'Native American/Native Alaskan': 6.685375020122979, 'Black': 8.844580961269306, 'Hispanic': 6.320304280067475, 'Asian/Pacific Islander': 1.8946401955117111}\n"
     ]
    }
   ],
   "source": [
    "# borrowing from exercises above about calculating killings/100,000 of a racial population\n",
    "# remember that there's another category called Two or More Races which we're ignoring here\n",
    "mapping = {'Asian/Pacific Islander': 15834141, 'Black':40250635, 'Hispanic': 44618105, 'Native American/Native Alaskan': 3739506, 'White': 197318956}\n",
    "race_per_hundredk_police_inv = {}\n",
    "for key, value in police_true_race.items():\n",
    "    race_per_hundredk_police_inv[key] = (value / mapping[key]) * 1000000\n",
    "\n",
    "print(race_per_hundredk_police_inv)"
   ]
  },
  {
   "cell_type": "markdown",
   "metadata": {},
   "source": [
    "## Police Involvement Roundup\n",
    "\n",
    "Overall\n",
    "\n",
    "- Every instance of a gun death where a police officer was involved was recorded as `Homicide`, there were a total 1,402 instances. \n",
    "- Regarding total number of instances of shootings where a police officer was involved broken down by race, in descending order: \n",
    "    - `White`: 709 \n",
    "    - `Black`: 356 \n",
    "    - `Hispanic`: 282 \n",
    "    - `Asian/Pacific Islander`: 30\n",
    "    - `Native American/Native Alaskan`: 25 \n",
    "- More telling is the number of shootings per 1,000,000 (per 100,000 resulted in numbers less than 0), in descending order:\n",
    "    - `Black`: 8.8 / 1,000,000\n",
    "    - `Native American/Native Alaskan`: 6.7 / 1,000,000\n",
    "    - `Hispanic`: 6.3 / 1,000,000\n",
    "    - `White`: 3.6 / 1,000,000\n",
    "    - `Asian/Pacific Islander`: 1.9 / 1,000,000\n",
    "- In summary, police shootings* constituted very few of the total recorded gun deaths between 2012-2014. More shootings involved a white victim than other racial groups. However, white victims constituted a smaller proportion of the overall white population (3.6). Per 1,000,000 persons, black victims had the highest proportion with 8.8, followed by Native American/Native Alaskan victims (6.7) and hispanic victims (6.3). \n",
    "\n",
    "#### Note on data*\n",
    "Based on Dataquest's description of the `police` category (whether a police officer was involved with the shooting), I had assumed this meant that a police officer was the shooter. However, this was not stated explicitly, and the [FiveThirtyEight study](https://fivethirtyeight.com/features/gun-deaths/) that this data was taken from also included data on shooting of police officers. If any of the instances in this dataset include instances where a police officer is the victim, the findings above are void.\n",
    "\n",
    "#### Link to Solutions\n",
    "[Link](https://github.com/dataquestio/solutions/blob/master/Mission218Solution.ipynb) to Dataquest solutions notebook."
   ]
  },
  {
   "cell_type": "code",
   "execution_count": null,
   "metadata": {},
   "outputs": [],
   "source": []
  }
 ],
 "metadata": {
  "kernelspec": {
   "display_name": "Python 3",
   "language": "python",
   "name": "python3"
  },
  "language_info": {
   "codemirror_mode": {
    "name": "ipython",
    "version": 3
   },
   "file_extension": ".py",
   "mimetype": "text/x-python",
   "name": "python",
   "nbconvert_exporter": "python",
   "pygments_lexer": "ipython3",
   "version": "3.6.4"
  }
 },
 "nbformat": 4,
 "nbformat_minor": 1
}
